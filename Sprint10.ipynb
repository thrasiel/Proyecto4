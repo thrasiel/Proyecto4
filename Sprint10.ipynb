{
 "cells": [
  {
   "cell_type": "markdown",
   "metadata": {},
   "source": [
    "# Proyecto Sprint 10: Aprendizaje Supervisado"
   ]
  },
  {
   "cell_type": "markdown",
   "metadata": {},
   "source": [
    "## Introducción\n",
    "\n",
    "Para este proyecto, tenemos el planteamiento que los clientes de Beta Bank se están yendo, cada mes, poco a poco. Los banqueros descubrieron que es más barato salvar a los clientes existentes que atraer nuevos.\n",
    "\n",
    "Necesitamos predecir si un cliente dejará el banco pronto. Se tiene a disposición los datos sobre el comportamiento pasado de los clientes y la terminación de contratos con el banco, lo cuál nos será de utilidad para determinar lo anterior.\n",
    "\n"
   ]
  },
  {
   "cell_type": "markdown",
   "metadata": {},
   "source": [
    "## Inicialización\n",
    "\n",
    "Iniciamos con la importación de las librerías requeridas para el proyecto."
   ]
  },
  {
   "cell_type": "code",
   "execution_count": 111,
   "metadata": {},
   "outputs": [],
   "source": [
    "import pandas as pd\n",
    "from sklearn.tree import DecisionTreeClassifier\n",
    "from sklearn.model_selection import train_test_split\n",
    "from sklearn.ensemble import RandomForestClassifier\n",
    "from sklearn.linear_model import LogisticRegression\n",
    "from sklearn.preprocessing import StandardScaler\n",
    "from sklearn.metrics import recall_score\n",
    "from sklearn.metrics import precision_score\n",
    "from sklearn.metrics import f1_score\n",
    "from sklearn.utils import shuffle\n",
    "from sklearn.metrics import roc_auc_score"
   ]
  },
  {
   "cell_type": "markdown",
   "metadata": {},
   "source": [
    "## Carga de Datos\n",
    "\n",
    "Continuamos con la lectura de dataset, revisando que el separador por defecto sea efectivamente el que necesitamos. Para ello, imprimimos una muestra."
   ]
  },
  {
   "cell_type": "code",
   "execution_count": 2,
   "metadata": {},
   "outputs": [
    {
     "name": "stdout",
     "output_type": "stream",
     "text": [
      "<class 'pandas.core.frame.DataFrame'>\n",
      "RangeIndex: 10000 entries, 0 to 9999\n",
      "Data columns (total 14 columns):\n",
      " #   Column           Non-Null Count  Dtype  \n",
      "---  ------           --------------  -----  \n",
      " 0   RowNumber        10000 non-null  int64  \n",
      " 1   CustomerId       10000 non-null  int64  \n",
      " 2   Surname          10000 non-null  object \n",
      " 3   CreditScore      10000 non-null  int64  \n",
      " 4   Geography        10000 non-null  object \n",
      " 5   Gender           10000 non-null  object \n",
      " 6   Age              10000 non-null  int64  \n",
      " 7   Tenure           9091 non-null   float64\n",
      " 8   Balance          10000 non-null  float64\n",
      " 9   NumOfProducts    10000 non-null  int64  \n",
      " 10  HasCrCard        10000 non-null  int64  \n",
      " 11  IsActiveMember   10000 non-null  int64  \n",
      " 12  EstimatedSalary  10000 non-null  float64\n",
      " 13  Exited           10000 non-null  int64  \n",
      "dtypes: float64(3), int64(8), object(3)\n",
      "memory usage: 1.1+ MB\n"
     ]
    },
    {
     "data": {
      "text/html": [
       "<div>\n",
       "<style scoped>\n",
       "    .dataframe tbody tr th:only-of-type {\n",
       "        vertical-align: middle;\n",
       "    }\n",
       "\n",
       "    .dataframe tbody tr th {\n",
       "        vertical-align: top;\n",
       "    }\n",
       "\n",
       "    .dataframe thead th {\n",
       "        text-align: right;\n",
       "    }\n",
       "</style>\n",
       "<table border=\"1\" class=\"dataframe\">\n",
       "  <thead>\n",
       "    <tr style=\"text-align: right;\">\n",
       "      <th></th>\n",
       "      <th>RowNumber</th>\n",
       "      <th>CustomerId</th>\n",
       "      <th>Surname</th>\n",
       "      <th>CreditScore</th>\n",
       "      <th>Geography</th>\n",
       "      <th>Gender</th>\n",
       "      <th>Age</th>\n",
       "      <th>Tenure</th>\n",
       "      <th>Balance</th>\n",
       "      <th>NumOfProducts</th>\n",
       "      <th>HasCrCard</th>\n",
       "      <th>IsActiveMember</th>\n",
       "      <th>EstimatedSalary</th>\n",
       "      <th>Exited</th>\n",
       "    </tr>\n",
       "  </thead>\n",
       "  <tbody>\n",
       "    <tr>\n",
       "      <th>0</th>\n",
       "      <td>1</td>\n",
       "      <td>15634602</td>\n",
       "      <td>Hargrave</td>\n",
       "      <td>619</td>\n",
       "      <td>France</td>\n",
       "      <td>Female</td>\n",
       "      <td>42</td>\n",
       "      <td>2.0</td>\n",
       "      <td>0.00</td>\n",
       "      <td>1</td>\n",
       "      <td>1</td>\n",
       "      <td>1</td>\n",
       "      <td>101348.88</td>\n",
       "      <td>1</td>\n",
       "    </tr>\n",
       "    <tr>\n",
       "      <th>1</th>\n",
       "      <td>2</td>\n",
       "      <td>15647311</td>\n",
       "      <td>Hill</td>\n",
       "      <td>608</td>\n",
       "      <td>Spain</td>\n",
       "      <td>Female</td>\n",
       "      <td>41</td>\n",
       "      <td>1.0</td>\n",
       "      <td>83807.86</td>\n",
       "      <td>1</td>\n",
       "      <td>0</td>\n",
       "      <td>1</td>\n",
       "      <td>112542.58</td>\n",
       "      <td>0</td>\n",
       "    </tr>\n",
       "    <tr>\n",
       "      <th>2</th>\n",
       "      <td>3</td>\n",
       "      <td>15619304</td>\n",
       "      <td>Onio</td>\n",
       "      <td>502</td>\n",
       "      <td>France</td>\n",
       "      <td>Female</td>\n",
       "      <td>42</td>\n",
       "      <td>8.0</td>\n",
       "      <td>159660.80</td>\n",
       "      <td>3</td>\n",
       "      <td>1</td>\n",
       "      <td>0</td>\n",
       "      <td>113931.57</td>\n",
       "      <td>1</td>\n",
       "    </tr>\n",
       "    <tr>\n",
       "      <th>3</th>\n",
       "      <td>4</td>\n",
       "      <td>15701354</td>\n",
       "      <td>Boni</td>\n",
       "      <td>699</td>\n",
       "      <td>France</td>\n",
       "      <td>Female</td>\n",
       "      <td>39</td>\n",
       "      <td>1.0</td>\n",
       "      <td>0.00</td>\n",
       "      <td>2</td>\n",
       "      <td>0</td>\n",
       "      <td>0</td>\n",
       "      <td>93826.63</td>\n",
       "      <td>0</td>\n",
       "    </tr>\n",
       "    <tr>\n",
       "      <th>4</th>\n",
       "      <td>5</td>\n",
       "      <td>15737888</td>\n",
       "      <td>Mitchell</td>\n",
       "      <td>850</td>\n",
       "      <td>Spain</td>\n",
       "      <td>Female</td>\n",
       "      <td>43</td>\n",
       "      <td>2.0</td>\n",
       "      <td>125510.82</td>\n",
       "      <td>1</td>\n",
       "      <td>1</td>\n",
       "      <td>1</td>\n",
       "      <td>79084.10</td>\n",
       "      <td>0</td>\n",
       "    </tr>\n",
       "  </tbody>\n",
       "</table>\n",
       "</div>"
      ],
      "text/plain": [
       "   RowNumber  CustomerId   Surname  CreditScore Geography  Gender  Age  \\\n",
       "0          1    15634602  Hargrave          619    France  Female   42   \n",
       "1          2    15647311      Hill          608     Spain  Female   41   \n",
       "2          3    15619304      Onio          502    France  Female   42   \n",
       "3          4    15701354      Boni          699    France  Female   39   \n",
       "4          5    15737888  Mitchell          850     Spain  Female   43   \n",
       "\n",
       "   Tenure    Balance  NumOfProducts  HasCrCard  IsActiveMember  \\\n",
       "0     2.0       0.00              1          1               1   \n",
       "1     1.0   83807.86              1          0               1   \n",
       "2     8.0  159660.80              3          1               0   \n",
       "3     1.0       0.00              2          0               0   \n",
       "4     2.0  125510.82              1          1               1   \n",
       "\n",
       "   EstimatedSalary  Exited  \n",
       "0        101348.88       1  \n",
       "1        112542.58       0  \n",
       "2        113931.57       1  \n",
       "3         93826.63       0  \n",
       "4         79084.10       0  "
      ]
     },
     "execution_count": 2,
     "metadata": {},
     "output_type": "execute_result"
    }
   ],
   "source": [
    "df = pd.read_csv(\"/datasets/Churn.csv\")\n",
    "df.info()\n",
    "df.head()"
   ]
  },
  {
   "cell_type": "code",
   "execution_count": 3,
   "metadata": {
    "scrolled": false
   },
   "outputs": [
    {
     "data": {
      "text/html": [
       "<div>\n",
       "<style scoped>\n",
       "    .dataframe tbody tr th:only-of-type {\n",
       "        vertical-align: middle;\n",
       "    }\n",
       "\n",
       "    .dataframe tbody tr th {\n",
       "        vertical-align: top;\n",
       "    }\n",
       "\n",
       "    .dataframe thead th {\n",
       "        text-align: right;\n",
       "    }\n",
       "</style>\n",
       "<table border=\"1\" class=\"dataframe\">\n",
       "  <thead>\n",
       "    <tr style=\"text-align: right;\">\n",
       "      <th></th>\n",
       "      <th>RowNumber</th>\n",
       "      <th>CustomerId</th>\n",
       "      <th>CreditScore</th>\n",
       "      <th>Age</th>\n",
       "      <th>Tenure</th>\n",
       "      <th>Balance</th>\n",
       "      <th>NumOfProducts</th>\n",
       "      <th>HasCrCard</th>\n",
       "      <th>IsActiveMember</th>\n",
       "      <th>EstimatedSalary</th>\n",
       "      <th>Exited</th>\n",
       "    </tr>\n",
       "  </thead>\n",
       "  <tbody>\n",
       "    <tr>\n",
       "      <th>count</th>\n",
       "      <td>10000.00000</td>\n",
       "      <td>1.000000e+04</td>\n",
       "      <td>10000.000000</td>\n",
       "      <td>10000.000000</td>\n",
       "      <td>9091.000000</td>\n",
       "      <td>10000.000000</td>\n",
       "      <td>10000.000000</td>\n",
       "      <td>10000.00000</td>\n",
       "      <td>10000.000000</td>\n",
       "      <td>10000.000000</td>\n",
       "      <td>10000.000000</td>\n",
       "    </tr>\n",
       "    <tr>\n",
       "      <th>mean</th>\n",
       "      <td>5000.50000</td>\n",
       "      <td>1.569094e+07</td>\n",
       "      <td>650.528800</td>\n",
       "      <td>38.921800</td>\n",
       "      <td>4.997690</td>\n",
       "      <td>76485.889288</td>\n",
       "      <td>1.530200</td>\n",
       "      <td>0.70550</td>\n",
       "      <td>0.515100</td>\n",
       "      <td>100090.239881</td>\n",
       "      <td>0.203700</td>\n",
       "    </tr>\n",
       "    <tr>\n",
       "      <th>std</th>\n",
       "      <td>2886.89568</td>\n",
       "      <td>7.193619e+04</td>\n",
       "      <td>96.653299</td>\n",
       "      <td>10.487806</td>\n",
       "      <td>2.894723</td>\n",
       "      <td>62397.405202</td>\n",
       "      <td>0.581654</td>\n",
       "      <td>0.45584</td>\n",
       "      <td>0.499797</td>\n",
       "      <td>57510.492818</td>\n",
       "      <td>0.402769</td>\n",
       "    </tr>\n",
       "    <tr>\n",
       "      <th>min</th>\n",
       "      <td>1.00000</td>\n",
       "      <td>1.556570e+07</td>\n",
       "      <td>350.000000</td>\n",
       "      <td>18.000000</td>\n",
       "      <td>0.000000</td>\n",
       "      <td>0.000000</td>\n",
       "      <td>1.000000</td>\n",
       "      <td>0.00000</td>\n",
       "      <td>0.000000</td>\n",
       "      <td>11.580000</td>\n",
       "      <td>0.000000</td>\n",
       "    </tr>\n",
       "    <tr>\n",
       "      <th>25%</th>\n",
       "      <td>2500.75000</td>\n",
       "      <td>1.562853e+07</td>\n",
       "      <td>584.000000</td>\n",
       "      <td>32.000000</td>\n",
       "      <td>2.000000</td>\n",
       "      <td>0.000000</td>\n",
       "      <td>1.000000</td>\n",
       "      <td>0.00000</td>\n",
       "      <td>0.000000</td>\n",
       "      <td>51002.110000</td>\n",
       "      <td>0.000000</td>\n",
       "    </tr>\n",
       "    <tr>\n",
       "      <th>50%</th>\n",
       "      <td>5000.50000</td>\n",
       "      <td>1.569074e+07</td>\n",
       "      <td>652.000000</td>\n",
       "      <td>37.000000</td>\n",
       "      <td>5.000000</td>\n",
       "      <td>97198.540000</td>\n",
       "      <td>1.000000</td>\n",
       "      <td>1.00000</td>\n",
       "      <td>1.000000</td>\n",
       "      <td>100193.915000</td>\n",
       "      <td>0.000000</td>\n",
       "    </tr>\n",
       "    <tr>\n",
       "      <th>75%</th>\n",
       "      <td>7500.25000</td>\n",
       "      <td>1.575323e+07</td>\n",
       "      <td>718.000000</td>\n",
       "      <td>44.000000</td>\n",
       "      <td>7.000000</td>\n",
       "      <td>127644.240000</td>\n",
       "      <td>2.000000</td>\n",
       "      <td>1.00000</td>\n",
       "      <td>1.000000</td>\n",
       "      <td>149388.247500</td>\n",
       "      <td>0.000000</td>\n",
       "    </tr>\n",
       "    <tr>\n",
       "      <th>max</th>\n",
       "      <td>10000.00000</td>\n",
       "      <td>1.581569e+07</td>\n",
       "      <td>850.000000</td>\n",
       "      <td>92.000000</td>\n",
       "      <td>10.000000</td>\n",
       "      <td>250898.090000</td>\n",
       "      <td>4.000000</td>\n",
       "      <td>1.00000</td>\n",
       "      <td>1.000000</td>\n",
       "      <td>199992.480000</td>\n",
       "      <td>1.000000</td>\n",
       "    </tr>\n",
       "  </tbody>\n",
       "</table>\n",
       "</div>"
      ],
      "text/plain": [
       "         RowNumber    CustomerId   CreditScore           Age       Tenure  \\\n",
       "count  10000.00000  1.000000e+04  10000.000000  10000.000000  9091.000000   \n",
       "mean    5000.50000  1.569094e+07    650.528800     38.921800     4.997690   \n",
       "std     2886.89568  7.193619e+04     96.653299     10.487806     2.894723   \n",
       "min        1.00000  1.556570e+07    350.000000     18.000000     0.000000   \n",
       "25%     2500.75000  1.562853e+07    584.000000     32.000000     2.000000   \n",
       "50%     5000.50000  1.569074e+07    652.000000     37.000000     5.000000   \n",
       "75%     7500.25000  1.575323e+07    718.000000     44.000000     7.000000   \n",
       "max    10000.00000  1.581569e+07    850.000000     92.000000    10.000000   \n",
       "\n",
       "             Balance  NumOfProducts    HasCrCard  IsActiveMember  \\\n",
       "count   10000.000000   10000.000000  10000.00000    10000.000000   \n",
       "mean    76485.889288       1.530200      0.70550        0.515100   \n",
       "std     62397.405202       0.581654      0.45584        0.499797   \n",
       "min         0.000000       1.000000      0.00000        0.000000   \n",
       "25%         0.000000       1.000000      0.00000        0.000000   \n",
       "50%     97198.540000       1.000000      1.00000        1.000000   \n",
       "75%    127644.240000       2.000000      1.00000        1.000000   \n",
       "max    250898.090000       4.000000      1.00000        1.000000   \n",
       "\n",
       "       EstimatedSalary        Exited  \n",
       "count     10000.000000  10000.000000  \n",
       "mean     100090.239881      0.203700  \n",
       "std       57510.492818      0.402769  \n",
       "min          11.580000      0.000000  \n",
       "25%       51002.110000      0.000000  \n",
       "50%      100193.915000      0.000000  \n",
       "75%      149388.247500      0.000000  \n",
       "max      199992.480000      1.000000  "
      ]
     },
     "execution_count": 3,
     "metadata": {},
     "output_type": "execute_result"
    }
   ],
   "source": [
    "df.describe()"
   ]
  },
  {
   "cell_type": "markdown",
   "metadata": {},
   "source": [
    "Una primera mirada a los datos nos indican que de forma predeterminada viene separado por comas. Adicionalmente, mediante el metodo info vemos las columnas que posee y sus tipos. Vemos que sus columnas están con Mayúsculas en sus iniciales, lo que cambiaremos a posterior. También, inicialmente vemos que de todas las columnas, solo \"Tenure\" posee datos faltantes.\n",
    "\n",
    "Por otra parte, mediante el metodo describe obtenemos la visión general de los datos para sus respectivas estadísticas."
   ]
  },
  {
   "cell_type": "markdown",
   "metadata": {},
   "source": [
    "## Preparación de los datos\n",
    "\n"
   ]
  },
  {
   "cell_type": "markdown",
   "metadata": {},
   "source": [
    "### Cambio a minúsculas\n",
    "\n",
    "Comenzaremos eliminando las Mayúsculas de las columnas."
   ]
  },
  {
   "cell_type": "code",
   "execution_count": 4,
   "metadata": {},
   "outputs": [
    {
     "data": {
      "text/html": [
       "<div>\n",
       "<style scoped>\n",
       "    .dataframe tbody tr th:only-of-type {\n",
       "        vertical-align: middle;\n",
       "    }\n",
       "\n",
       "    .dataframe tbody tr th {\n",
       "        vertical-align: top;\n",
       "    }\n",
       "\n",
       "    .dataframe thead th {\n",
       "        text-align: right;\n",
       "    }\n",
       "</style>\n",
       "<table border=\"1\" class=\"dataframe\">\n",
       "  <thead>\n",
       "    <tr style=\"text-align: right;\">\n",
       "      <th></th>\n",
       "      <th>rownumber</th>\n",
       "      <th>customerid</th>\n",
       "      <th>surname</th>\n",
       "      <th>creditscore</th>\n",
       "      <th>geography</th>\n",
       "      <th>gender</th>\n",
       "      <th>age</th>\n",
       "      <th>tenure</th>\n",
       "      <th>balance</th>\n",
       "      <th>numofproducts</th>\n",
       "      <th>hascrcard</th>\n",
       "      <th>isactivemember</th>\n",
       "      <th>estimatedsalary</th>\n",
       "      <th>exited</th>\n",
       "    </tr>\n",
       "  </thead>\n",
       "  <tbody>\n",
       "    <tr>\n",
       "      <th>4382</th>\n",
       "      <td>4383</td>\n",
       "      <td>15780561</td>\n",
       "      <td>Hay</td>\n",
       "      <td>622</td>\n",
       "      <td>France</td>\n",
       "      <td>Female</td>\n",
       "      <td>39</td>\n",
       "      <td>NaN</td>\n",
       "      <td>83456.79</td>\n",
       "      <td>2</td>\n",
       "      <td>0</td>\n",
       "      <td>0</td>\n",
       "      <td>38882.34</td>\n",
       "      <td>0</td>\n",
       "    </tr>\n",
       "  </tbody>\n",
       "</table>\n",
       "</div>"
      ],
      "text/plain": [
       "      rownumber  customerid surname  creditscore geography  gender  age  \\\n",
       "4382       4383    15780561     Hay          622    France  Female   39   \n",
       "\n",
       "      tenure   balance  numofproducts  hascrcard  isactivemember  \\\n",
       "4382     NaN  83456.79              2          0               0   \n",
       "\n",
       "      estimatedsalary  exited  \n",
       "4382         38882.34       0  "
      ]
     },
     "execution_count": 4,
     "metadata": {},
     "output_type": "execute_result"
    }
   ],
   "source": [
    "df.columns = df.columns.str.lower() #señalamos que transforme todas las columnas a minusculas\n",
    "df.sample()"
   ]
  },
  {
   "cell_type": "markdown",
   "metadata": {},
   "source": [
    "### Tratado de valores ausentes y duplicados\n",
    "\n",
    "Debemos cerciorarnos que cada una de las columnas tenga coherencia en sus datos. Para ello, verificaremos sus duplicados y valores ausentes."
   ]
  },
  {
   "cell_type": "code",
   "execution_count": 5,
   "metadata": {},
   "outputs": [
    {
     "data": {
      "text/plain": [
       "rownumber            0\n",
       "customerid           0\n",
       "surname              0\n",
       "creditscore          0\n",
       "geography            0\n",
       "gender               0\n",
       "age                  0\n",
       "tenure             909\n",
       "balance              0\n",
       "numofproducts        0\n",
       "hascrcard            0\n",
       "isactivemember       0\n",
       "estimatedsalary      0\n",
       "exited               0\n",
       "dtype: int64"
      ]
     },
     "execution_count": 5,
     "metadata": {},
     "output_type": "execute_result"
    }
   ],
   "source": [
    "df.isna().sum()"
   ]
  },
  {
   "cell_type": "code",
   "execution_count": 6,
   "metadata": {},
   "outputs": [
    {
     "data": {
      "text/html": [
       "<div>\n",
       "<style scoped>\n",
       "    .dataframe tbody tr th:only-of-type {\n",
       "        vertical-align: middle;\n",
       "    }\n",
       "\n",
       "    .dataframe tbody tr th {\n",
       "        vertical-align: top;\n",
       "    }\n",
       "\n",
       "    .dataframe thead th {\n",
       "        text-align: right;\n",
       "    }\n",
       "</style>\n",
       "<table border=\"1\" class=\"dataframe\">\n",
       "  <thead>\n",
       "    <tr style=\"text-align: right;\">\n",
       "      <th></th>\n",
       "      <th>rownumber</th>\n",
       "      <th>customerid</th>\n",
       "      <th>surname</th>\n",
       "      <th>creditscore</th>\n",
       "      <th>geography</th>\n",
       "      <th>gender</th>\n",
       "      <th>age</th>\n",
       "      <th>tenure</th>\n",
       "      <th>balance</th>\n",
       "      <th>numofproducts</th>\n",
       "      <th>hascrcard</th>\n",
       "      <th>isactivemember</th>\n",
       "      <th>estimatedsalary</th>\n",
       "      <th>exited</th>\n",
       "    </tr>\n",
       "  </thead>\n",
       "  <tbody>\n",
       "    <tr>\n",
       "      <th>30</th>\n",
       "      <td>31</td>\n",
       "      <td>15589475</td>\n",
       "      <td>Azikiwe</td>\n",
       "      <td>591</td>\n",
       "      <td>Spain</td>\n",
       "      <td>Female</td>\n",
       "      <td>39</td>\n",
       "      <td>NaN</td>\n",
       "      <td>0.00</td>\n",
       "      <td>3</td>\n",
       "      <td>1</td>\n",
       "      <td>0</td>\n",
       "      <td>140469.38</td>\n",
       "      <td>1</td>\n",
       "    </tr>\n",
       "    <tr>\n",
       "      <th>48</th>\n",
       "      <td>49</td>\n",
       "      <td>15766205</td>\n",
       "      <td>Yin</td>\n",
       "      <td>550</td>\n",
       "      <td>Germany</td>\n",
       "      <td>Male</td>\n",
       "      <td>38</td>\n",
       "      <td>NaN</td>\n",
       "      <td>103391.38</td>\n",
       "      <td>1</td>\n",
       "      <td>0</td>\n",
       "      <td>1</td>\n",
       "      <td>90878.13</td>\n",
       "      <td>0</td>\n",
       "    </tr>\n",
       "    <tr>\n",
       "      <th>51</th>\n",
       "      <td>52</td>\n",
       "      <td>15768193</td>\n",
       "      <td>Trevisani</td>\n",
       "      <td>585</td>\n",
       "      <td>Germany</td>\n",
       "      <td>Male</td>\n",
       "      <td>36</td>\n",
       "      <td>NaN</td>\n",
       "      <td>146050.97</td>\n",
       "      <td>2</td>\n",
       "      <td>0</td>\n",
       "      <td>0</td>\n",
       "      <td>86424.57</td>\n",
       "      <td>0</td>\n",
       "    </tr>\n",
       "    <tr>\n",
       "      <th>53</th>\n",
       "      <td>54</td>\n",
       "      <td>15702298</td>\n",
       "      <td>Parkhill</td>\n",
       "      <td>655</td>\n",
       "      <td>Germany</td>\n",
       "      <td>Male</td>\n",
       "      <td>41</td>\n",
       "      <td>NaN</td>\n",
       "      <td>125561.97</td>\n",
       "      <td>1</td>\n",
       "      <td>0</td>\n",
       "      <td>0</td>\n",
       "      <td>164040.94</td>\n",
       "      <td>1</td>\n",
       "    </tr>\n",
       "    <tr>\n",
       "      <th>60</th>\n",
       "      <td>61</td>\n",
       "      <td>15651280</td>\n",
       "      <td>Hunter</td>\n",
       "      <td>742</td>\n",
       "      <td>Germany</td>\n",
       "      <td>Male</td>\n",
       "      <td>35</td>\n",
       "      <td>NaN</td>\n",
       "      <td>136857.00</td>\n",
       "      <td>1</td>\n",
       "      <td>0</td>\n",
       "      <td>0</td>\n",
       "      <td>84509.57</td>\n",
       "      <td>0</td>\n",
       "    </tr>\n",
       "    <tr>\n",
       "      <th>...</th>\n",
       "      <td>...</td>\n",
       "      <td>...</td>\n",
       "      <td>...</td>\n",
       "      <td>...</td>\n",
       "      <td>...</td>\n",
       "      <td>...</td>\n",
       "      <td>...</td>\n",
       "      <td>...</td>\n",
       "      <td>...</td>\n",
       "      <td>...</td>\n",
       "      <td>...</td>\n",
       "      <td>...</td>\n",
       "      <td>...</td>\n",
       "      <td>...</td>\n",
       "    </tr>\n",
       "    <tr>\n",
       "      <th>9944</th>\n",
       "      <td>9945</td>\n",
       "      <td>15703923</td>\n",
       "      <td>Cameron</td>\n",
       "      <td>744</td>\n",
       "      <td>Germany</td>\n",
       "      <td>Male</td>\n",
       "      <td>41</td>\n",
       "      <td>NaN</td>\n",
       "      <td>190409.34</td>\n",
       "      <td>2</td>\n",
       "      <td>1</td>\n",
       "      <td>1</td>\n",
       "      <td>138361.48</td>\n",
       "      <td>0</td>\n",
       "    </tr>\n",
       "    <tr>\n",
       "      <th>9956</th>\n",
       "      <td>9957</td>\n",
       "      <td>15707861</td>\n",
       "      <td>Nucci</td>\n",
       "      <td>520</td>\n",
       "      <td>France</td>\n",
       "      <td>Female</td>\n",
       "      <td>46</td>\n",
       "      <td>NaN</td>\n",
       "      <td>85216.61</td>\n",
       "      <td>1</td>\n",
       "      <td>1</td>\n",
       "      <td>0</td>\n",
       "      <td>117369.52</td>\n",
       "      <td>1</td>\n",
       "    </tr>\n",
       "    <tr>\n",
       "      <th>9964</th>\n",
       "      <td>9965</td>\n",
       "      <td>15642785</td>\n",
       "      <td>Douglas</td>\n",
       "      <td>479</td>\n",
       "      <td>France</td>\n",
       "      <td>Male</td>\n",
       "      <td>34</td>\n",
       "      <td>NaN</td>\n",
       "      <td>117593.48</td>\n",
       "      <td>2</td>\n",
       "      <td>0</td>\n",
       "      <td>0</td>\n",
       "      <td>113308.29</td>\n",
       "      <td>0</td>\n",
       "    </tr>\n",
       "    <tr>\n",
       "      <th>9985</th>\n",
       "      <td>9986</td>\n",
       "      <td>15586914</td>\n",
       "      <td>Nepean</td>\n",
       "      <td>659</td>\n",
       "      <td>France</td>\n",
       "      <td>Male</td>\n",
       "      <td>36</td>\n",
       "      <td>NaN</td>\n",
       "      <td>123841.49</td>\n",
       "      <td>2</td>\n",
       "      <td>1</td>\n",
       "      <td>0</td>\n",
       "      <td>96833.00</td>\n",
       "      <td>0</td>\n",
       "    </tr>\n",
       "    <tr>\n",
       "      <th>9999</th>\n",
       "      <td>10000</td>\n",
       "      <td>15628319</td>\n",
       "      <td>Walker</td>\n",
       "      <td>792</td>\n",
       "      <td>France</td>\n",
       "      <td>Female</td>\n",
       "      <td>28</td>\n",
       "      <td>NaN</td>\n",
       "      <td>130142.79</td>\n",
       "      <td>1</td>\n",
       "      <td>1</td>\n",
       "      <td>0</td>\n",
       "      <td>38190.78</td>\n",
       "      <td>0</td>\n",
       "    </tr>\n",
       "  </tbody>\n",
       "</table>\n",
       "<p>909 rows × 14 columns</p>\n",
       "</div>"
      ],
      "text/plain": [
       "      rownumber  customerid    surname  creditscore geography  gender  age  \\\n",
       "30           31    15589475    Azikiwe          591     Spain  Female   39   \n",
       "48           49    15766205        Yin          550   Germany    Male   38   \n",
       "51           52    15768193  Trevisani          585   Germany    Male   36   \n",
       "53           54    15702298   Parkhill          655   Germany    Male   41   \n",
       "60           61    15651280     Hunter          742   Germany    Male   35   \n",
       "...         ...         ...        ...          ...       ...     ...  ...   \n",
       "9944       9945    15703923    Cameron          744   Germany    Male   41   \n",
       "9956       9957    15707861      Nucci          520    France  Female   46   \n",
       "9964       9965    15642785    Douglas          479    France    Male   34   \n",
       "9985       9986    15586914     Nepean          659    France    Male   36   \n",
       "9999      10000    15628319     Walker          792    France  Female   28   \n",
       "\n",
       "      tenure    balance  numofproducts  hascrcard  isactivemember  \\\n",
       "30       NaN       0.00              3          1               0   \n",
       "48       NaN  103391.38              1          0               1   \n",
       "51       NaN  146050.97              2          0               0   \n",
       "53       NaN  125561.97              1          0               0   \n",
       "60       NaN  136857.00              1          0               0   \n",
       "...      ...        ...            ...        ...             ...   \n",
       "9944     NaN  190409.34              2          1               1   \n",
       "9956     NaN   85216.61              1          1               0   \n",
       "9964     NaN  117593.48              2          0               0   \n",
       "9985     NaN  123841.49              2          1               0   \n",
       "9999     NaN  130142.79              1          1               0   \n",
       "\n",
       "      estimatedsalary  exited  \n",
       "30          140469.38       1  \n",
       "48           90878.13       0  \n",
       "51           86424.57       0  \n",
       "53          164040.94       1  \n",
       "60           84509.57       0  \n",
       "...               ...     ...  \n",
       "9944        138361.48       0  \n",
       "9956        117369.52       1  \n",
       "9964        113308.29       0  \n",
       "9985         96833.00       0  \n",
       "9999         38190.78       0  \n",
       "\n",
       "[909 rows x 14 columns]"
      ]
     },
     "execution_count": 6,
     "metadata": {},
     "output_type": "execute_result"
    }
   ],
   "source": [
    "df[df[\"tenure\"].isna()]"
   ]
  },
  {
   "cell_type": "code",
   "execution_count": 7,
   "metadata": {},
   "outputs": [
    {
     "data": {
      "text/plain": [
       "0"
      ]
     },
     "execution_count": 7,
     "metadata": {},
     "output_type": "execute_result"
    }
   ],
   "source": [
    "df.duplicated().sum()"
   ]
  },
  {
   "cell_type": "markdown",
   "metadata": {},
   "source": [
    "No contaríamos con filas exactamente iguales en nuestro dataset."
   ]
  },
  {
   "cell_type": "markdown",
   "metadata": {},
   "source": [
    "Para el tratamiento de valores ausentes, tenemos:"
   ]
  },
  {
   "cell_type": "code",
   "execution_count": 8,
   "metadata": {},
   "outputs": [
    {
     "name": "stdout",
     "output_type": "stream",
     "text": [
      "1.0     952\n",
      "2.0     950\n",
      "8.0     933\n",
      "3.0     928\n",
      "5.0     927\n",
      "7.0     925\n",
      "NaN     909\n",
      "4.0     885\n",
      "9.0     882\n",
      "6.0     881\n",
      "10.0    446\n",
      "0.0     382\n",
      "Name: tenure, dtype: int64\n",
      "la media es: 4.997690023099769\n",
      "la mediana es: 5.0\n"
     ]
    }
   ],
   "source": [
    "print(df[\"tenure\"].value_counts(dropna = False))\n",
    "print(\"la media es:\",df[\"tenure\"].mean())\n",
    "print(\"la mediana es:\",df[\"tenure\"].median())"
   ]
  },
  {
   "cell_type": "markdown",
   "metadata": {},
   "source": [
    "Ya que la media y mediana son practicamente iguales, procederemos a rellenar los valures ausentes de la columna Tenure con el valor 5."
   ]
  },
  {
   "cell_type": "code",
   "execution_count": 9,
   "metadata": {},
   "outputs": [
    {
     "name": "stdout",
     "output_type": "stream",
     "text": [
      "0\n",
      "5.0     1836\n",
      "1.0      952\n",
      "2.0      950\n",
      "8.0      933\n",
      "3.0      928\n",
      "7.0      925\n",
      "4.0      885\n",
      "9.0      882\n",
      "6.0      881\n",
      "10.0     446\n",
      "0.0      382\n",
      "Name: tenure, dtype: int64\n"
     ]
    }
   ],
   "source": [
    "df[\"tenure\"].fillna(5, inplace=True)\n",
    "print(df[\"tenure\"].isna().sum())\n",
    "print(df[\"tenure\"].value_counts(dropna = False))"
   ]
  },
  {
   "cell_type": "markdown",
   "metadata": {},
   "source": [
    "### Codificación de características categóricas"
   ]
  },
  {
   "cell_type": "markdown",
   "metadata": {},
   "source": [
    "Ahora, podemos codificar la columna \"gender\" para que tambien analice aquella categoría."
   ]
  },
  {
   "cell_type": "code",
   "execution_count": 10,
   "metadata": {},
   "outputs": [
    {
     "data": {
      "text/plain": [
       "Male      5457\n",
       "Female    4543\n",
       "Name: gender, dtype: int64"
      ]
     },
     "execution_count": 10,
     "metadata": {},
     "output_type": "execute_result"
    }
   ],
   "source": [
    "df[\"gender\"].value_counts()"
   ]
  },
  {
   "cell_type": "markdown",
   "metadata": {},
   "source": [
    "Ya que solo tenemos dos categorías (Male, Female), en vez de codificar, haremos solo un mapeo por medio de pandas:"
   ]
  },
  {
   "cell_type": "code",
   "execution_count": 11,
   "metadata": {},
   "outputs": [],
   "source": [
    "gender_dict = {'Male': 0, 'Female': 1}\n",
    "df['gender'] = df['gender'].map(gender_dict)"
   ]
  },
  {
   "cell_type": "code",
   "execution_count": 12,
   "metadata": {},
   "outputs": [
    {
     "data": {
      "text/plain": [
       "0    5457\n",
       "1    4543\n",
       "Name: gender, dtype: int64"
      ]
     },
     "execution_count": 12,
     "metadata": {},
     "output_type": "execute_result"
    }
   ],
   "source": [
    "df[\"gender\"].value_counts()"
   ]
  },
  {
   "cell_type": "code",
   "execution_count": 13,
   "metadata": {
    "scrolled": false
   },
   "outputs": [
    {
     "name": "stdout",
     "output_type": "stream",
     "text": [
      "<class 'pandas.core.frame.DataFrame'>\n",
      "RangeIndex: 10000 entries, 0 to 9999\n",
      "Data columns (total 14 columns):\n",
      " #   Column           Non-Null Count  Dtype  \n",
      "---  ------           --------------  -----  \n",
      " 0   rownumber        10000 non-null  int64  \n",
      " 1   customerid       10000 non-null  int64  \n",
      " 2   surname          10000 non-null  object \n",
      " 3   creditscore      10000 non-null  int64  \n",
      " 4   geography        10000 non-null  object \n",
      " 5   gender           10000 non-null  int64  \n",
      " 6   age              10000 non-null  int64  \n",
      " 7   tenure           10000 non-null  float64\n",
      " 8   balance          10000 non-null  float64\n",
      " 9   numofproducts    10000 non-null  int64  \n",
      " 10  hascrcard        10000 non-null  int64  \n",
      " 11  isactivemember   10000 non-null  int64  \n",
      " 12  estimatedsalary  10000 non-null  float64\n",
      " 13  exited           10000 non-null  int64  \n",
      "dtypes: float64(3), int64(9), object(2)\n",
      "memory usage: 1.1+ MB\n"
     ]
    }
   ],
   "source": [
    "df.info()"
   ]
  },
  {
   "cell_type": "markdown",
   "metadata": {},
   "source": [
    "De esta manera, queda el hombre con un valor de 0 y mujer con un valor de 1.\n",
    "\n",
    "\n",
    "Con esto, tendríamos nuestros datos casi listos, solo debemos segmentar y estandarizar nuestro dataset."
   ]
  },
  {
   "cell_type": "markdown",
   "metadata": {},
   "source": [
    "### Segmentación del Dataset\n",
    "\n",
    "Para el dataset de entrenamiento dejaremos 60% del dataframe total, para el de validación y prueba un 20%"
   ]
  },
  {
   "cell_type": "code",
   "execution_count": 14,
   "metadata": {},
   "outputs": [],
   "source": [
    "#generamos una funcion para dividir nuestro dataset dos veces usando la funcion train_test_split\n",
    "\n",
    "def split_train_val_test(df_input, stratify_colname='y', frac_train=0.6, frac_val=0.2, frac_test=0.2, \n",
    "                         random_state=12345):\n",
    "    \n",
    "\n",
    "    if frac_train + frac_val + frac_test != 1.0: #verifica que la suma de las particiones de 1\n",
    "        raise ValueError('Los elementos %f, %f, %f no suman 1.0' % \\\n",
    "                         (frac_train, frac_val, frac_test))\n",
    "\n",
    "    if stratify_colname not in df_input.columns:\n",
    "        raise ValueError('%s no es una columna en el dataframe' % (stratify_colname))\n",
    "\n",
    "    X = df_input # Posee todas las columnas\n",
    "    y = df_input[[stratify_colname]] # la columna en la cual basamos el analisis\n",
    "\n",
    "    # Divide el dataframe en porciones temporales\n",
    "    df_train, df_temp, y_train, y_temp = train_test_split(X, y, stratify=y, test_size=(1.0 - frac_train),\n",
    "                                                          random_state=random_state)\n",
    "\n",
    "    # Divide finalmente el dataframe utilizando las porciones temporales para obtener las 3 partes\n",
    "    relative_frac_test = frac_test / (frac_val + frac_test)\n",
    "    df_val, df_test, y_val, y_test = train_test_split(df_temp, y_temp, stratify=y_temp, \n",
    "                                                      test_size=relative_frac_test, random_state=random_state)\n",
    "\n",
    "    assert len(df_input) == len(df_train) + len(df_val) + len(df_test) #Verifica la integridad de los datos\n",
    "\n",
    "    return df_train, df_val, df_test"
   ]
  },
  {
   "cell_type": "markdown",
   "metadata": {},
   "source": [
    "Utilizando nuestra funcion para crear los 3 dataset:"
   ]
  },
  {
   "cell_type": "code",
   "execution_count": 15,
   "metadata": {},
   "outputs": [],
   "source": [
    "df_train, df_val, df_test = split_train_val_test(df, stratify_colname='exited', \n",
    "                                                 frac_train=0.60, frac_val=0.20, frac_test=0.20)"
   ]
  },
  {
   "cell_type": "markdown",
   "metadata": {},
   "source": [
    "Evaluando la integridad de los datos, inicialmente vimos que teníamos 10000 filas, esto implica que nuestro conjunto de entrenamiento debe contener el 60% de los datos o 6000 filas y los de validación y prueba 2000 filas cada uno. Verificando esto, tenemos:"
   ]
  },
  {
   "cell_type": "code",
   "execution_count": 16,
   "metadata": {},
   "outputs": [
    {
     "name": "stdout",
     "output_type": "stream",
     "text": [
      "(6000, 14)\n",
      "(2000, 14)\n",
      "(2000, 14)\n"
     ]
    }
   ],
   "source": [
    "print(df_train.shape)\n",
    "print(df_val.shape)\n",
    "print(df_test.shape)"
   ]
  },
  {
   "cell_type": "markdown",
   "metadata": {},
   "source": [
    "Ahora, para crear nuestros dataset de entrenamiento, validación y prueba, efectuamos lo siguiente:"
   ]
  },
  {
   "cell_type": "code",
   "execution_count": 17,
   "metadata": {},
   "outputs": [],
   "source": [
    "features_train = df_train.drop(\"exited\", axis = 1)\n",
    "target_train = df_train[\"exited\"]\n",
    "features_valid = df_val.drop(\"exited\", axis = 1)\n",
    "target_valid = df_val[\"exited\"]\n",
    "features_test = df_test.drop(\"exited\", axis = 1)\n",
    "target_test = df_test[\"exited\"]"
   ]
  },
  {
   "cell_type": "markdown",
   "metadata": {},
   "source": [
    "### Estandarización de Datos"
   ]
  },
  {
   "cell_type": "markdown",
   "metadata": {},
   "source": [
    "A pesar de que nuestro dataset tiene datos que son numéricos, creo que no son relevantes para señalarlos dentro del modelo. Por ejemplo la columna \"rownumber\" y el \"customerid\" no deberían tener ninguna implicancia en determinar si los clientes puedan o no dejar el banco, por lo que quedarán fuera de nuestras columnas \"numéricas\"."
   ]
  },
  {
   "cell_type": "code",
   "execution_count": 18,
   "metadata": {},
   "outputs": [],
   "source": [
    "numeric = ['creditscore', 'gender', 'age', 'tenure', 'balance', 'numofproducts', 'hascrcard', 'isactivemember',\n",
    "           'estimatedsalary']"
   ]
  },
  {
   "cell_type": "code",
   "execution_count": 19,
   "metadata": {},
   "outputs": [],
   "source": [
    "scaler = StandardScaler()\n",
    "scaler.fit(features_train[numeric])\n",
    "features_train[numeric] = scaler.transform(features_train[numeric])\n",
    "features_valid[numeric] = scaler.transform(features_valid[numeric])\n",
    "features_test[numeric] = scaler.transform(features_test[numeric])"
   ]
  },
  {
   "cell_type": "markdown",
   "metadata": {},
   "source": [
    "Con esto efectuado podemos ya comenzar nuestros modelos."
   ]
  },
  {
   "cell_type": "markdown",
   "metadata": {},
   "source": [
    "## Modelos de ML"
   ]
  },
  {
   "cell_type": "markdown",
   "metadata": {},
   "source": [
    "### Modelo Árbol de Decisión"
   ]
  },
  {
   "cell_type": "code",
   "execution_count": 20,
   "metadata": {},
   "outputs": [
    {
     "name": "stdout",
     "output_type": "stream",
     "text": [
      "Profundidad = 5 : 0.8575 ; Calidad conjunto entrenamiento: 0.8988333333333334\n"
     ]
    }
   ],
   "source": [
    "tree_score = 0\n",
    "best_depth = 0\n",
    "for a in range(1,11):\n",
    "    model = DecisionTreeClassifier(random_state=1702, max_depth = a)\n",
    "    model.fit(features_train[numeric], target_train)\n",
    "    score = model.score(features_train[numeric], target_train)\n",
    "    valid_score = model.score(features_valid[numeric], target_valid)\n",
    "    predicted_valid = model.predict(features_valid[numeric])\n",
    "    if valid_score > tree_score:\n",
    "        tree_score = valid_score\n",
    "        best_depth = a\n",
    "print(\"Profundidad =\", best_depth, \":\", tree_score,\"; Calidad conjunto entrenamiento:\", score)"
   ]
  },
  {
   "cell_type": "markdown",
   "metadata": {},
   "source": [
    "Ahora, para revisar su equilibrio de clases veremos su recall y precision score:"
   ]
  },
  {
   "cell_type": "code",
   "execution_count": 21,
   "metadata": {},
   "outputs": [
    {
     "data": {
      "text/plain": [
       "0.44607843137254904"
      ]
     },
     "execution_count": 21,
     "metadata": {},
     "output_type": "execute_result"
    }
   ],
   "source": [
    "recall_score(target_valid, predicted_valid)"
   ]
  },
  {
   "cell_type": "code",
   "execution_count": 22,
   "metadata": {},
   "outputs": [
    {
     "data": {
      "text/plain": [
       "0.6523297491039427"
      ]
     },
     "execution_count": 22,
     "metadata": {},
     "output_type": "execute_result"
    }
   ],
   "source": [
    "precision_score(target_valid, predicted_valid)"
   ]
  },
  {
   "cell_type": "markdown",
   "metadata": {},
   "source": [
    "Los valores nos señalan que las métricas están bien lejos de lo esperado. Veremos ahora el valor F1 para determinar cómo proceder:"
   ]
  },
  {
   "cell_type": "code",
   "execution_count": 23,
   "metadata": {},
   "outputs": [
    {
     "data": {
      "text/plain": [
       "0.529839883551674"
      ]
     },
     "execution_count": 23,
     "metadata": {},
     "output_type": "execute_result"
    }
   ],
   "source": [
    "f1_score(target_valid,predicted_valid)"
   ]
  },
  {
   "cell_type": "markdown",
   "metadata": {},
   "source": [
    "De forma inicial, nos solicitan que para nuestro modelo tenga al menos un valor de F1 de 0.59, por lo que este no calificaría, pero aun podemos mejorarlo equilibrando las clases."
   ]
  },
  {
   "cell_type": "markdown",
   "metadata": {},
   "source": [
    "#### Ajuste de Desequilibrio de Clases\n",
    "\n",
    "Para ajustar el desequilibrio de clases partiremos modificando el peso de las mismas.\n",
    "\n",
    "**Ajuste de Peso de Clase**"
   ]
  },
  {
   "cell_type": "code",
   "execution_count": 24,
   "metadata": {},
   "outputs": [
    {
     "name": "stdout",
     "output_type": "stream",
     "text": [
      "Profundidad = 3 : 0.7975 ; Calidad conjunto entrenamiento: 1.0\n"
     ]
    }
   ],
   "source": [
    "tree_score = 0\n",
    "best_depth = 0\n",
    "for a in range(1,100):\n",
    "    model = DecisionTreeClassifier(random_state=1702, max_depth = a, class_weight = 'balanced')\n",
    "    model.fit(features_train[numeric], target_train)\n",
    "    score = model.score(features_train[numeric], target_train)\n",
    "    valid_score = model.score(features_valid[numeric], target_valid)\n",
    "    predicted_valid = model.predict(features_valid[numeric])\n",
    "    if valid_score > tree_score:\n",
    "        tree_score = valid_score\n",
    "        best_depth = a\n",
    "print(\"Profundidad =\", best_depth, \":\", tree_score,\"; Calidad conjunto entrenamiento:\", score)"
   ]
  },
  {
   "cell_type": "code",
   "execution_count": 25,
   "metadata": {
    "scrolled": false
   },
   "outputs": [
    {
     "name": "stdout",
     "output_type": "stream",
     "text": [
      "F1 Score: 0.47897196261682246\n",
      "Precision Score: 0.4575892857142857\n",
      "Recall Score: 0.5024509803921569\n"
     ]
    }
   ],
   "source": [
    "print(\"F1 Score:\",f1_score(target_valid,predicted_valid))\n",
    "print(\"Precision Score:\", precision_score(target_valid,predicted_valid))\n",
    "print(\"Recall Score:\", recall_score(target_valid,predicted_valid))"
   ]
  },
  {
   "cell_type": "markdown",
   "metadata": {},
   "source": [
    "La calidad del conjunto de entrenamiento quedó con el valor máximo. Sin embargo, la calidad del conjunto de validación bajó. Esto también se refleja en el valor de F1 que baja respecto de lo anterior."
   ]
  },
  {
   "cell_type": "markdown",
   "metadata": {},
   "source": [
    "**Sobremuestreo**\n",
    "\n",
    "Generamos una función para obtener el sobremuestreo:"
   ]
  },
  {
   "cell_type": "code",
   "execution_count": 102,
   "metadata": {},
   "outputs": [],
   "source": [
    "def upsample(features, target, repeat):\n",
    "    features_zeros = features[target == 0]\n",
    "    features_ones = features[target == 1]\n",
    "    target_zeros = target[target == 0]\n",
    "    target_ones = target[target == 1]\n",
    "\n",
    "    features_upsampled = pd.concat([features_zeros] + [features_ones] * repeat)\n",
    "    target_upsampled = pd.concat([target_zeros] + [target_ones] * repeat)\n",
    "\n",
    "    features_upsampled, target_upsampled = shuffle(features_upsampled, target_upsampled, random_state=12345)\n",
    "    return features_upsampled, target_upsampled\n",
    "\n",
    "\n",
    "features_upsampled, target_upsampled = upsample(features_train[numeric], target_train, 40)"
   ]
  },
  {
   "cell_type": "markdown",
   "metadata": {},
   "source": [
    "Entrenamos el modelo nuevamente:"
   ]
  },
  {
   "cell_type": "code",
   "execution_count": 103,
   "metadata": {
    "scrolled": true
   },
   "outputs": [
    {
     "name": "stdout",
     "output_type": "stream",
     "text": [
      "Profundidad = 5 : 0.804 ; Calidad conjunto entrenamiento: 1.0\n",
      "F1: 0.48000000000000004\n"
     ]
    }
   ],
   "source": [
    "for a in range(1,100):\n",
    "    model = DecisionTreeClassifier(random_state=1702, max_depth = a, class_weight = 'balanced')\n",
    "    model.fit(features_upsampled, target_upsampled)\n",
    "    score = model.score(features_train[numeric], target_train)\n",
    "    valid_score = model.score(features_valid[numeric], target_valid)\n",
    "    predicted_valid = model.predict(features_valid[numeric])\n",
    "    if valid_score > tree_score:\n",
    "        tree_score = valid_score\n",
    "        best_depth = a\n",
    "print(\"Profundidad =\", best_depth, \":\", tree_score,\"; Calidad conjunto entrenamiento:\", score)\n",
    "\n",
    "print('F1:', f1_score(target_valid, predicted_valid))"
   ]
  },
  {
   "cell_type": "markdown",
   "metadata": {},
   "source": [
    "**Submuestreo**\n",
    "\n",
    "Generamos una función para obtener el submuestreo:"
   ]
  },
  {
   "cell_type": "code",
   "execution_count": 96,
   "metadata": {},
   "outputs": [],
   "source": [
    "def downsample(features, target, fraction):\n",
    "    features_zeros = features[target == 0]\n",
    "    features_ones = features[target == 1]\n",
    "    target_zeros = target[target == 0]\n",
    "    target_ones = target[target == 1]\n",
    "\n",
    "    features_downsampled = pd.concat([features_zeros.sample(frac=fraction, random_state=1702)]+[features_ones])\n",
    "    target_downsampled = pd.concat([target_zeros.sample(frac=fraction, random_state=1702)]+[target_ones])\n",
    "\n",
    "    features_downsampled, target_downsampled = shuffle(features_downsampled, target_downsampled, random_state=1702)\n",
    "    return features_downsampled, target_downsampled\n",
    "\n",
    "\n",
    "features_downsampled, target_downsampled = downsample(features_train[numeric], target_train, 0.6)"
   ]
  },
  {
   "cell_type": "markdown",
   "metadata": {},
   "source": [
    "Entrenamos el modelo bajo estos parámetros:"
   ]
  },
  {
   "cell_type": "code",
   "execution_count": 97,
   "metadata": {},
   "outputs": [
    {
     "name": "stdout",
     "output_type": "stream",
     "text": [
      "Profundidad = 5 : 0.804 ; Calidad conjunto entrenamiento: 0.9378333333333333\n",
      "F1: 0.4841675178753831\n"
     ]
    }
   ],
   "source": [
    "for a in range(1,100):\n",
    "    model = DecisionTreeClassifier(random_state=1702, max_depth = a, class_weight = 'balanced')\n",
    "    model.fit(features_downsampled, target_downsampled)\n",
    "    score = model.score(features_train[numeric], target_train)\n",
    "    valid_score = model.score(features_valid[numeric], target_valid)\n",
    "    predicted_valid = model.predict(features_valid[numeric])\n",
    "    if valid_score > tree_score:\n",
    "        tree_score = valid_score\n",
    "        best_depth = a\n",
    "print(\"Profundidad =\", best_depth, \":\", tree_score,\"; Calidad conjunto entrenamiento:\", score)\n",
    "\n",
    "print('F1:', f1_score(target_valid, predicted_valid))"
   ]
  },
  {
   "cell_type": "markdown",
   "metadata": {},
   "source": [
    "**Conclusión**\n",
    "\n",
    "Para nuestro modelo de Árbol de Decisión, considerando las mejoras en los desequilibrios de clases, primero que todo, dejamos el peso de las clases como \"balanceado\", eso genera que el dataset de entrenamiento tenga un 100% de exactitud, pero la calidad del dataset de validación baja. Posteriormente, viendo tanto el sobremuestreo como submuestreo, no logramos mejorar la calidad del factor F1 de forma considerable; de hecho baja respecto de nuestros valores iniciales (antes de equilibrar las clases).\n",
    "\n",
    "Con el peso de las clases ajustado, el mejor valor de F1 lo entrega el submuestreo."
   ]
  },
  {
   "cell_type": "markdown",
   "metadata": {},
   "source": [
    "### Modelo Bosque Aleatorio"
   ]
  },
  {
   "cell_type": "code",
   "execution_count": 30,
   "metadata": {},
   "outputs": [
    {
     "name": "stdout",
     "output_type": "stream",
     "text": [
      "La exactitud en conjunto de validación es (n_estimators =  46 ): 0.861\n",
      "La calidad del conjunto de entrenamiento es:  1.0\n"
     ]
    }
   ],
   "source": [
    "best_score = 0\n",
    "best_est = 0\n",
    "\n",
    "for est in range(1, 100): # selecciona el rango del hiperparámetro\n",
    "    model2 = RandomForestClassifier(random_state=1702, n_estimators=est) # configura el número de árboles\n",
    "    model2.fit(features_train[numeric], target_train) # entrena el modelo en el conjunto de entrenamiento\n",
    "    score2 = model2.score(features_train[numeric], target_train)\n",
    "    valid_score2 = model2.score(features_valid[numeric], target_valid)\n",
    "    predicted_valid2 = model2.predict(features_valid[numeric])\n",
    "    if valid_score2 > best_score:\n",
    "        best_score = valid_score2 #guarda el mejor puntaje o calidad\n",
    "        best_est = est # guarda el número de estimadores que corresponden a la mejor puntuación de exactitud\n",
    "       \n",
    "print(\"La exactitud en conjunto de validación es (n_estimators = \", best_est,\"):\", best_score)\n",
    "print(\"La calidad del conjunto de entrenamiento es: \", score2)"
   ]
  },
  {
   "cell_type": "markdown",
   "metadata": {},
   "source": [
    "Para el Recall y Precision tenemos:"
   ]
  },
  {
   "cell_type": "code",
   "execution_count": 31,
   "metadata": {},
   "outputs": [
    {
     "name": "stdout",
     "output_type": "stream",
     "text": [
      "Precision Score: 0.748\n",
      "Recall Score: 0.4583333333333333\n",
      "F1 Score: 0.5683890577507599\n"
     ]
    }
   ],
   "source": [
    "print(\"Precision Score:\", precision_score(target_valid,predicted_valid2))\n",
    "print(\"Recall Score:\", recall_score(target_valid,predicted_valid2))\n",
    "print(\"F1 Score:\",f1_score(target_valid,predicted_valid2))"
   ]
  },
  {
   "cell_type": "markdown",
   "metadata": {},
   "source": [
    "Este modelo se ve mas promisorio. Tenemos un valor de precisión bastante decente. Sin embargo el de recall es muy bajo. Respecto al valor de F1 se encuentra bastante cerca de lo que requerimos, por lo que ajustaremos el desequilibrio de clases para ver su mejoría."
   ]
  },
  {
   "cell_type": "markdown",
   "metadata": {},
   "source": [
    "#### Ajuste de desequilibrio de clases\n",
    "\n",
    "**Ajuste de peso de clase**"
   ]
  },
  {
   "cell_type": "code",
   "execution_count": 32,
   "metadata": {},
   "outputs": [
    {
     "name": "stdout",
     "output_type": "stream",
     "text": [
      "La exactitud en conjunto de validación es (n_estimators =  54 ): 0.859\n",
      "La calidad del conjunto de entrenamiento es:  1.0\n"
     ]
    }
   ],
   "source": [
    "best_score = 0\n",
    "best_est = 0\n",
    "for est in range(1, 100): # selecciona el rango del hiperparámetro\n",
    "    model2 = RandomForestClassifier(random_state=1702, n_estimators=est, class_weight= 'balanced')\n",
    "    model2.fit(features_train[numeric], target_train) # entrena el modelo en el conjunto de entrenamiento\n",
    "    score2 = model2.score(features_train[numeric], target_train)\n",
    "    valid_score2 = model2.score(features_valid[numeric], target_valid)\n",
    "    predicted_valid2 = model2.predict(features_valid[numeric])\n",
    "    if valid_score2 > best_score:\n",
    "        best_score = valid_score2 #guarda el mejor puntaje o calidad\n",
    "        best_est = est # guarda el número de estimadores que corresponden a la mejor puntuación de exactitud\n",
    "\n",
    "print(\"La exactitud en conjunto de validación es (n_estimators = \", best_est,\"):\", best_score)\n",
    "print(\"La calidad del conjunto de entrenamiento es: \", score2)"
   ]
  },
  {
   "cell_type": "code",
   "execution_count": 33,
   "metadata": {},
   "outputs": [
    {
     "name": "stdout",
     "output_type": "stream",
     "text": [
      "Precision Score: 0.7662337662337663\n",
      "Recall Score: 0.4338235294117647\n",
      "F1 Score: 0.5539906103286386\n"
     ]
    }
   ],
   "source": [
    "print(\"Precision Score:\", precision_score(target_valid,predicted_valid2))\n",
    "print(\"Recall Score:\", recall_score(target_valid,predicted_valid2))\n",
    "print(\"F1 Score:\",f1_score(target_valid,predicted_valid2))"
   ]
  },
  {
   "cell_type": "markdown",
   "metadata": {},
   "source": [
    "Ajustando el peso de las clases, el valor de Precisión mejoró, el de Recall bajó y F1 también disminuyó ligeramente.\n",
    "\n",
    "Veremos ahora con las técnicas de Sobremuestreo y Submuestreo si logramos mejorar el valor de F1 al solicitado.\n",
    "\n",
    "**Sobremuestreo**"
   ]
  },
  {
   "cell_type": "code",
   "execution_count": 117,
   "metadata": {},
   "outputs": [
    {
     "name": "stdout",
     "output_type": "stream",
     "text": [
      "La exactitud en conjunto de validación es (n_estimators =  70 ): 0.8445\n",
      "La calidad del conjunto de entrenamiento es:  0.9998333333333334\n"
     ]
    }
   ],
   "source": [
    "features_upsampled2, target_upsampled2 = upsample(features_train[numeric], target_train, 10)\n",
    "best_score = 0\n",
    "best_est = 0\n",
    "for est in range(1, 100): # selecciona el rango del hiperparámetro\n",
    "    model2 = RandomForestClassifier(random_state=1702, n_estimators=est, class_weight= 'balanced')\n",
    "    model2.fit(features_upsampled2, target_upsampled2)\n",
    "    score2 = model2.score(features_train[numeric], target_train)\n",
    "    valid_score2 = model2.score(features_valid[numeric], target_valid)\n",
    "    predicted_valid2 = model2.predict(features_valid[numeric])\n",
    "    if valid_score2 > best_score:\n",
    "        best_score = valid_score2 #guarda el mejor puntaje o calidad\n",
    "        best_est = est # guarda el número de estimadores que corresponden a la mejor puntuación de exactitud\n",
    "\n",
    "print(\"La exactitud en conjunto de validación es (n_estimators = \", best_est,\"):\", best_score)\n",
    "print(\"La calidad del conjunto de entrenamiento es: \", score2)"
   ]
  },
  {
   "cell_type": "code",
   "execution_count": 118,
   "metadata": {},
   "outputs": [
    {
     "name": "stdout",
     "output_type": "stream",
     "text": [
      "Precision Score: 0.6355421686746988\n",
      "Recall Score: 0.5171568627450981\n",
      "F1 Score: 0.5702702702702703\n"
     ]
    }
   ],
   "source": [
    "print(\"Precision Score:\", precision_score(target_valid,predicted_valid2))\n",
    "print(\"Recall Score:\", recall_score(target_valid,predicted_valid2))\n",
    "print(\"F1 Score:\",f1_score(target_valid,predicted_valid2))"
   ]
  },
  {
   "cell_type": "markdown",
   "metadata": {},
   "source": [
    "Podemos ver que mejoró el valor de F1, por lo que el sobremuestreo sirvió.\n",
    "\n",
    "**Submuestreo**"
   ]
  },
  {
   "cell_type": "code",
   "execution_count": 54,
   "metadata": {},
   "outputs": [
    {
     "name": "stdout",
     "output_type": "stream",
     "text": [
      "La exactitud en conjunto de validación es (n_estimators =  46 ): 0.8545\n",
      "La calidad del conjunto de entrenamiento es:  0.9791666666666666\n"
     ]
    }
   ],
   "source": [
    "features_downsampled2, target_downsampled2 = downsample(features_train[numeric], target_train, 0.599)\n",
    "best_score = 0\n",
    "best_est = 0\n",
    "for est in range(1, 100): # selecciona el rango del hiperparámetro\n",
    "    model2 = RandomForestClassifier(random_state=1702, n_estimators=est, class_weight= 'balanced')\n",
    "    model2.fit(features_downsampled2, target_downsampled2)\n",
    "    score2 = model2.score(features_train[numeric], target_train)\n",
    "    valid_score2 = model2.score(features_valid[numeric], target_valid)\n",
    "    predicted_valid2 = model2.predict(features_valid[numeric])\n",
    "    if valid_score2 > best_score:\n",
    "        best_score = valid_score2 #guarda el mejor puntaje o calidad\n",
    "        best_est = est # guarda el número de estimadores que corresponden a la mejor puntuación de exactitud\n",
    "\n",
    "print(\"La exactitud en conjunto de validación es (n_estimators = \", best_est,\"):\", best_score)\n",
    "print(\"La calidad del conjunto de entrenamiento es: \", score2)"
   ]
  },
  {
   "cell_type": "code",
   "execution_count": 55,
   "metadata": {},
   "outputs": [
    {
     "name": "stdout",
     "output_type": "stream",
     "text": [
      "Precision Score: 0.6530612244897959\n",
      "Recall Score: 0.5490196078431373\n",
      "F1 Score: 0.5965379494007989\n"
     ]
    }
   ],
   "source": [
    "print(\"Precision Score:\", precision_score(target_valid,predicted_valid2))\n",
    "print(\"Recall Score:\", recall_score(target_valid,predicted_valid2))\n",
    "print(\"F1 Score:\",f1_score(target_valid,predicted_valid2))"
   ]
  },
  {
   "cell_type": "markdown",
   "metadata": {},
   "source": [
    "Con este resultado, tenemos un posible candidato. Para esto el submuestreo hubo que dejarlo con una partición de 0.599 para que el resultado de F1 estuviera dentro del rango solicitado."
   ]
  },
  {
   "cell_type": "markdown",
   "metadata": {},
   "source": [
    "**Conclusión**\n",
    "\n",
    "Hasta ahora el mejor modelo ha sido el Bosque Aleatorio con la mejora de ajuste de peso y con la técnica de submuestreo para mejorar el valor de F1. Previo a efectuar cualquier mejora y ajuste ya mostraba indicios de lo mismo, ya que su valor de F1 estaba en 0.57."
   ]
  },
  {
   "cell_type": "markdown",
   "metadata": {},
   "source": [
    "### Modelo Regresión Logística"
   ]
  },
  {
   "cell_type": "code",
   "execution_count": 65,
   "metadata": {},
   "outputs": [
    {
     "name": "stdout",
     "output_type": "stream",
     "text": [
      "Exactitud del modelo en el conjunto de entrenamiento: 0.8115\n",
      "Exactitud del modelo en el conjunto de validación: 0.803\n"
     ]
    }
   ],
   "source": [
    "model3 = LogisticRegression(random_state=1702, solver= 'liblinear')\n",
    "model3.fit(features_train[numeric], target_train) # entrena el modelo en el conjunto de entrenamiento\n",
    "predicted_valid3 = model3.predict(features_valid[numeric])\n",
    "score_train = model3.score(features_train[numeric], target_train) # calcula la exactitud en el conjunto de entrenamiento\n",
    "score_valid = model3.score(features_valid[numeric], target_valid)\n",
    "\n",
    "print(\"Exactitud del modelo en el conjunto de entrenamiento:\", score_train)\n",
    "print(\"Exactitud del modelo en el conjunto de validación:\", score_valid)"
   ]
  },
  {
   "cell_type": "code",
   "execution_count": 64,
   "metadata": {},
   "outputs": [
    {
     "name": "stdout",
     "output_type": "stream",
     "text": [
      "Precision Score: 0.5614035087719298\n",
      "Recall Score: 0.1568627450980392\n",
      "F1 Score: 0.24521072796934867\n"
     ]
    }
   ],
   "source": [
    "print(\"Precision Score:\", precision_score(target_valid,predicted_valid3))\n",
    "print(\"Recall Score:\", recall_score(target_valid,predicted_valid3))\n",
    "print(\"F1 Score:\",f1_score(target_valid,predicted_valid3))"
   ]
  },
  {
   "cell_type": "markdown",
   "metadata": {},
   "source": [
    "Hasta el momento, sin el equilibrio de clases, este es el modelo con el peor F1."
   ]
  },
  {
   "cell_type": "markdown",
   "metadata": {},
   "source": [
    "#### Ajuste de desequilibrio de clases\n",
    "\n",
    "**Ajuste de peso de clase**\n"
   ]
  },
  {
   "cell_type": "code",
   "execution_count": 66,
   "metadata": {},
   "outputs": [
    {
     "name": "stdout",
     "output_type": "stream",
     "text": [
      "Exactitud del modelo en el conjunto de entrenamiento: 0.6995\n",
      "Exactitud del modelo en el conjunto de validación: 0.708\n"
     ]
    }
   ],
   "source": [
    "model3 = LogisticRegression(random_state=1702, solver= 'liblinear', class_weight = 'balanced')\n",
    "model3.fit(features_train[numeric], target_train) # entrena el modelo en el conjunto de entrenamiento\n",
    "predicted_valid3 = model3.predict(features_valid[numeric])\n",
    "score_train = model3.score(features_train[numeric], target_train) # calcula la exactitud en el conjunto de entrenamiento\n",
    "score_valid = model3.score(features_valid[numeric], target_valid)\n",
    "\n",
    "print(\"Exactitud del modelo en el conjunto de entrenamiento:\", score_train)\n",
    "print(\"Exactitud del modelo en el conjunto de validación:\", score_valid)"
   ]
  },
  {
   "cell_type": "code",
   "execution_count": 67,
   "metadata": {},
   "outputs": [
    {
     "name": "stdout",
     "output_type": "stream",
     "text": [
      "Precision Score: 0.3839050131926121\n",
      "Recall Score: 0.7132352941176471\n",
      "F1 Score: 0.49914236706689535\n"
     ]
    }
   ],
   "source": [
    "print(\"Precision Score:\", precision_score(target_valid,predicted_valid3))\n",
    "print(\"Recall Score:\", recall_score(target_valid,predicted_valid3))\n",
    "print(\"F1 Score:\",f1_score(target_valid,predicted_valid3))"
   ]
  },
  {
   "cell_type": "markdown",
   "metadata": {},
   "source": [
    "Con el ajuste de peso de clase, el valor de F1 mejora considerablemente.\n",
    "\n",
    "**Sobremuestreo**"
   ]
  },
  {
   "cell_type": "code",
   "execution_count": 80,
   "metadata": {},
   "outputs": [
    {
     "name": "stdout",
     "output_type": "stream",
     "text": [
      "Exactitud del modelo en el conjunto de entrenamiento: 0.6995\n",
      "Exactitud del modelo en el conjunto de validación: 0.708\n"
     ]
    }
   ],
   "source": [
    "features_upsampled3, target_upsampled3 = upsample(features_train[numeric], target_train, 10)\n",
    "model3 = LogisticRegression(random_state=1702, solver= 'liblinear', class_weight = 'balanced')\n",
    "model3.fit(features_upsampled3, target_upsampled3) # entrena el modelo\n",
    "predicted_valid3 = model3.predict(features_valid[numeric])\n",
    "score_train = model3.score(features_train[numeric], target_train) \n",
    "score_valid = model3.score(features_valid[numeric], target_valid)\n",
    "\n",
    "print(\"Exactitud del modelo en el conjunto de entrenamiento:\", score_train)\n",
    "print(\"Exactitud del modelo en el conjunto de validación:\", score_valid)"
   ]
  },
  {
   "cell_type": "code",
   "execution_count": 81,
   "metadata": {},
   "outputs": [
    {
     "name": "stdout",
     "output_type": "stream",
     "text": [
      "Precision Score: 0.3839050131926121\n",
      "Recall Score: 0.7132352941176471\n",
      "F1 Score: 0.49914236706689535\n"
     ]
    }
   ],
   "source": [
    "print(\"Precision Score:\", precision_score(target_valid,predicted_valid3))\n",
    "print(\"Recall Score:\", recall_score(target_valid,predicted_valid3))\n",
    "print(\"F1 Score:\",f1_score(target_valid,predicted_valid3))"
   ]
  },
  {
   "cell_type": "markdown",
   "metadata": {},
   "source": [
    "**Submuestreo**"
   ]
  },
  {
   "cell_type": "code",
   "execution_count": 90,
   "metadata": {},
   "outputs": [
    {
     "name": "stdout",
     "output_type": "stream",
     "text": [
      "Exactitud del modelo en el conjunto de entrenamiento: 0.6986666666666667\n",
      "Exactitud del modelo en el conjunto de validación: 0.7105\n"
     ]
    }
   ],
   "source": [
    "features_downsampled3, target_downsampled3 = downsample(features_train[numeric], target_train, 0.6)\n",
    "model3 = LogisticRegression(random_state=1702, solver= 'liblinear', class_weight = 'balanced')\n",
    "model3.fit(features_downsampled3, target_downsampled3) # entrena el modelo\n",
    "predicted_valid3 = model3.predict(features_valid[numeric])\n",
    "score_train = model3.score(features_train[numeric], target_train) \n",
    "score_valid = model3.score(features_valid[numeric], target_valid)\n",
    "\n",
    "print(\"Exactitud del modelo en el conjunto de entrenamiento:\", score_train)\n",
    "print(\"Exactitud del modelo en el conjunto de validación:\", score_valid)"
   ]
  },
  {
   "cell_type": "code",
   "execution_count": 91,
   "metadata": {},
   "outputs": [
    {
     "name": "stdout",
     "output_type": "stream",
     "text": [
      "Precision Score: 0.38645418326693226\n",
      "Recall Score: 0.7132352941176471\n",
      "F1 Score: 0.5012919896640827\n"
     ]
    }
   ],
   "source": [
    "print(\"Precision Score:\", precision_score(target_valid,predicted_valid3))\n",
    "print(\"Recall Score:\", recall_score(target_valid,predicted_valid3))\n",
    "print(\"F1 Score:\",f1_score(target_valid,predicted_valid3))"
   ]
  },
  {
   "cell_type": "markdown",
   "metadata": {},
   "source": [
    "**Conclusión**\n",
    "\n",
    "Este modelo inicialmente mostró indicios de ser el más bajo. Con un valor de F1 de 0.24 se logró aumentar hasta 0.5, que, sin embargo, no logra superar al bosque aleatorio, pero sí al árbol de decisión."
   ]
  },
  {
   "cell_type": "markdown",
   "metadata": {},
   "source": [
    "### Elección del Modelo\n",
    "\n",
    "Como bien ya señalamos previamente, el candidato seleccionado para nuestro modelo final sería el de Bosque Aleatorio con ajuste de peso y submuestreo."
   ]
  },
  {
   "cell_type": "markdown",
   "metadata": {},
   "source": [
    "#### Modelo Bosque Aleatorio Ajustado"
   ]
  },
  {
   "cell_type": "code",
   "execution_count": 112,
   "metadata": {},
   "outputs": [
    {
     "name": "stdout",
     "output_type": "stream",
     "text": [
      "La exactitud en conjunto de validación es (n_estimators =  46 ): 0.8545\n",
      "La calidad del conjunto de entrenamiento es:  0.9791666666666666\n"
     ]
    }
   ],
   "source": [
    "features_downsampled2, target_downsampled2 = downsample(features_train[numeric], target_train, 0.599)\n",
    "best_score = 0\n",
    "best_est = 0\n",
    "for est in range(1, 100): # selecciona el rango del hiperparámetro\n",
    "    model2 = RandomForestClassifier(random_state=1702, n_estimators=est, class_weight= 'balanced')\n",
    "    model2.fit(features_downsampled2, target_downsampled2)\n",
    "    score2 = model2.score(features_train[numeric], target_train)\n",
    "    valid_score2 = model2.score(features_valid[numeric], target_valid)\n",
    "    predicted_valid2 = model2.predict(features_valid[numeric])\n",
    "    predicted_test = model2.predict(features_test[numeric])\n",
    "    probabilities_valid = model2.predict_proba(features_valid[numeric])\n",
    "    if valid_score2 > best_score:\n",
    "        best_score = valid_score2 #guarda el mejor puntaje o calidad\n",
    "        best_est = est # guarda el número de estimadores que corresponden a la mejor puntuación de exactitud\n",
    "\n",
    "print(\"La exactitud en conjunto de validación es (n_estimators = \", best_est,\"):\", best_score)\n",
    "print(\"La calidad del conjunto de entrenamiento es: \", score2)"
   ]
  },
  {
   "cell_type": "code",
   "execution_count": 113,
   "metadata": {},
   "outputs": [
    {
     "name": "stdout",
     "output_type": "stream",
     "text": [
      "Precision Score: 0.6530612244897959\n",
      "Recall Score: 0.5490196078431373\n",
      "F1 Score: 0.5965379494007989\n"
     ]
    }
   ],
   "source": [
    "print(\"Precision Score:\", precision_score(target_valid,predicted_valid2))\n",
    "print(\"Recall Score:\", recall_score(target_valid,predicted_valid2))\n",
    "print(\"F1 Score:\",f1_score(target_valid,predicted_valid2))"
   ]
  },
  {
   "cell_type": "markdown",
   "metadata": {},
   "source": [
    "Como bien vemos, su valor de F1 está en 0.5965 lo cual podría considerarse 0.6"
   ]
  },
  {
   "cell_type": "markdown",
   "metadata": {},
   "source": [
    "#### Prueba de valor F1 en dataset de prueba"
   ]
  },
  {
   "cell_type": "code",
   "execution_count": 115,
   "metadata": {},
   "outputs": [
    {
     "name": "stdout",
     "output_type": "stream",
     "text": [
      "F1 Score: 0.5698478561549101\n"
     ]
    }
   ],
   "source": [
    "print(\"F1 Score:\",f1_score(target_test,predicted_test))"
   ]
  },
  {
   "cell_type": "markdown",
   "metadata": {},
   "source": [
    "El valor de F1 para nuestro conjunto de prueba baja un poco respecto del de validación."
   ]
  },
  {
   "cell_type": "markdown",
   "metadata": {},
   "source": [
    "#### Valor AUC-ROC"
   ]
  },
  {
   "cell_type": "code",
   "execution_count": 116,
   "metadata": {},
   "outputs": [
    {
     "data": {
      "text/plain": [
       "0.8441872351955857"
      ]
     },
     "execution_count": 116,
     "metadata": {},
     "output_type": "execute_result"
    }
   ],
   "source": [
    "probabilities_one_valid = probabilities_valid[:, 1]\n",
    "auc_roc = roc_auc_score(target_valid, probabilities_one_valid)\n",
    "auc_roc"
   ]
  },
  {
   "cell_type": "markdown",
   "metadata": {},
   "source": [
    "Tenemos que el valor de AUC-ROC es de 0.84, en contraste con nuestro valor de F1 que nos dio 0.6 para el conjunto de validación."
   ]
  },
  {
   "cell_type": "markdown",
   "metadata": {},
   "source": [
    "**Conclusiones**\n",
    "\n",
    "Considerando los resultados obtenidos para nuestro dataset, lo más recomendable es que la empresa Beta Bank utilice el Modelo de Bosque aleatorio para explorar si sus clientes dejarán de serlo o se mantendrán. De aquella forma se asegura que lo más fiable lo entregue aquel algoritmo.\n",
    "\n",
    "Respecto del proyecto en general, fue bastante duro. Aplicar todos los conocimientos de forma consolidada fue un desafío bastante grande y deja un gran sabor respecto de lo que es aplicarlo en un entorno profesional. Espero haber estado correcto en mis presunciones y decisiones."
   ]
  }
 ],
 "metadata": {
  "ExecuteTimeLog": [
   {
    "duration": 778,
    "start_time": "2024-10-14T14:18:44.374Z"
   },
   {
    "duration": 40,
    "start_time": "2024-10-14T14:19:42.554Z"
   },
   {
    "duration": 23,
    "start_time": "2024-10-14T14:20:40.566Z"
   },
   {
    "duration": 23,
    "start_time": "2024-10-14T14:20:47.266Z"
   },
   {
    "duration": 29,
    "start_time": "2024-10-14T14:24:13.280Z"
   },
   {
    "duration": 11,
    "start_time": "2024-10-14T14:24:31.109Z"
   },
   {
    "duration": 29,
    "start_time": "2024-10-14T14:24:38.538Z"
   },
   {
    "duration": 10,
    "start_time": "2024-10-14T14:24:42.638Z"
   },
   {
    "duration": 28,
    "start_time": "2024-10-14T14:24:46.391Z"
   },
   {
    "duration": 10,
    "start_time": "2024-10-14T14:28:09.739Z"
   },
   {
    "duration": 7,
    "start_time": "2024-10-14T14:30:40.697Z"
   },
   {
    "duration": 17,
    "start_time": "2024-10-14T14:31:14.001Z"
   },
   {
    "duration": 593,
    "start_time": "2024-10-14T14:35:45.831Z"
   },
   {
    "duration": 9,
    "start_time": "2024-10-14T14:35:56.382Z"
   },
   {
    "duration": 5,
    "start_time": "2024-10-14T14:38:49.951Z"
   },
   {
    "duration": 5,
    "start_time": "2024-10-14T14:39:02.341Z"
   },
   {
    "duration": 5,
    "start_time": "2024-10-14T14:39:10.689Z"
   },
   {
    "duration": 6,
    "start_time": "2024-10-14T14:39:21.448Z"
   },
   {
    "duration": 6,
    "start_time": "2024-10-14T14:39:23.986Z"
   },
   {
    "duration": 5,
    "start_time": "2024-10-14T14:39:37.977Z"
   },
   {
    "duration": 8,
    "start_time": "2024-10-14T14:40:25.956Z"
   },
   {
    "duration": 5,
    "start_time": "2024-10-14T14:40:43.509Z"
   },
   {
    "duration": 5,
    "start_time": "2024-10-14T14:40:52.545Z"
   },
   {
    "duration": 5,
    "start_time": "2024-10-14T14:41:03.706Z"
   },
   {
    "duration": 5,
    "start_time": "2024-10-14T14:41:21.425Z"
   },
   {
    "duration": 5,
    "start_time": "2024-10-14T14:41:36.885Z"
   },
   {
    "duration": 5,
    "start_time": "2024-10-14T14:41:42.591Z"
   },
   {
    "duration": 5,
    "start_time": "2024-10-14T14:42:09.287Z"
   },
   {
    "duration": 754,
    "start_time": "2024-10-14T14:42:26.473Z"
   },
   {
    "duration": 33,
    "start_time": "2024-10-14T14:42:27.229Z"
   },
   {
    "duration": 32,
    "start_time": "2024-10-14T14:42:27.265Z"
   },
   {
    "duration": 26,
    "start_time": "2024-10-14T14:42:27.299Z"
   },
   {
    "duration": 6,
    "start_time": "2024-10-14T14:42:27.327Z"
   },
   {
    "duration": 16,
    "start_time": "2024-10-14T14:42:27.335Z"
   },
   {
    "duration": 9,
    "start_time": "2024-10-14T14:42:27.352Z"
   },
   {
    "duration": 5,
    "start_time": "2024-10-14T14:42:27.363Z"
   },
   {
    "duration": 212,
    "start_time": "2024-10-14T14:44:23.999Z"
   },
   {
    "duration": 4,
    "start_time": "2024-10-14T14:44:32.378Z"
   },
   {
    "duration": 5,
    "start_time": "2024-10-14T14:45:00.037Z"
   },
   {
    "duration": 5,
    "start_time": "2024-10-14T14:45:08.068Z"
   },
   {
    "duration": 5,
    "start_time": "2024-10-14T14:45:27.211Z"
   },
   {
    "duration": 772,
    "start_time": "2024-10-14T14:45:32.162Z"
   },
   {
    "duration": 32,
    "start_time": "2024-10-14T14:45:32.936Z"
   },
   {
    "duration": 27,
    "start_time": "2024-10-14T14:45:32.970Z"
   },
   {
    "duration": 8,
    "start_time": "2024-10-14T14:45:32.999Z"
   },
   {
    "duration": 6,
    "start_time": "2024-10-14T14:45:33.025Z"
   },
   {
    "duration": 16,
    "start_time": "2024-10-14T14:45:33.032Z"
   },
   {
    "duration": 9,
    "start_time": "2024-10-14T14:45:33.049Z"
   },
   {
    "duration": 5,
    "start_time": "2024-10-14T14:45:33.060Z"
   },
   {
    "duration": 5,
    "start_time": "2024-10-14T14:45:33.067Z"
   },
   {
    "duration": 5,
    "start_time": "2024-10-14T14:45:40.117Z"
   },
   {
    "duration": 6,
    "start_time": "2024-10-14T14:45:46.674Z"
   },
   {
    "duration": 768,
    "start_time": "2024-10-14T14:45:53.772Z"
   },
   {
    "duration": 31,
    "start_time": "2024-10-14T14:45:54.543Z"
   },
   {
    "duration": 27,
    "start_time": "2024-10-14T14:45:54.575Z"
   },
   {
    "duration": 21,
    "start_time": "2024-10-14T14:45:54.604Z"
   },
   {
    "duration": 5,
    "start_time": "2024-10-14T14:45:54.627Z"
   },
   {
    "duration": 15,
    "start_time": "2024-10-14T14:45:54.634Z"
   },
   {
    "duration": 9,
    "start_time": "2024-10-14T14:45:54.650Z"
   },
   {
    "duration": 5,
    "start_time": "2024-10-14T14:45:54.660Z"
   },
   {
    "duration": 5,
    "start_time": "2024-10-14T14:45:54.667Z"
   },
   {
    "duration": 7,
    "start_time": "2024-10-14T15:57:54.330Z"
   },
   {
    "duration": 4,
    "start_time": "2024-10-14T15:58:29.786Z"
   },
   {
    "duration": 220,
    "start_time": "2024-10-14T15:58:47.726Z"
   },
   {
    "duration": 5,
    "start_time": "2024-10-14T15:58:55.597Z"
   },
   {
    "duration": 13,
    "start_time": "2024-10-14T15:58:57.548Z"
   },
   {
    "duration": 23,
    "start_time": "2024-10-14T15:59:23.056Z"
   },
   {
    "duration": 46,
    "start_time": "2024-10-14T15:59:48.960Z"
   },
   {
    "duration": 3,
    "start_time": "2024-10-14T15:59:51.412Z"
   },
   {
    "duration": 58,
    "start_time": "2024-10-14T17:33:35.804Z"
   },
   {
    "duration": 5,
    "start_time": "2024-10-14T17:34:01.387Z"
   },
   {
    "duration": 5,
    "start_time": "2024-10-14T17:44:13.614Z"
   },
   {
    "duration": 46,
    "start_time": "2024-10-14T17:54:21.935Z"
   },
   {
    "duration": 5,
    "start_time": "2024-10-14T18:02:08.602Z"
   },
   {
    "duration": 5,
    "start_time": "2024-10-14T18:02:11.105Z"
   },
   {
    "duration": 9,
    "start_time": "2024-10-14T18:02:19.504Z"
   },
   {
    "duration": 9,
    "start_time": "2024-10-14T18:02:40.787Z"
   },
   {
    "duration": 7,
    "start_time": "2024-10-14T18:02:54.944Z"
   },
   {
    "duration": 5,
    "start_time": "2024-10-14T18:03:00.875Z"
   },
   {
    "duration": 7,
    "start_time": "2024-10-14T18:10:08.181Z"
   },
   {
    "duration": 12,
    "start_time": "2024-10-14T18:10:14.721Z"
   },
   {
    "duration": 5,
    "start_time": "2024-10-14T18:18:51.958Z"
   },
   {
    "duration": 5,
    "start_time": "2024-10-14T18:19:07.960Z"
   },
   {
    "duration": 3,
    "start_time": "2024-10-14T18:19:52.155Z"
   },
   {
    "duration": 3,
    "start_time": "2024-10-14T18:40:19.770Z"
   },
   {
    "duration": 32,
    "start_time": "2024-10-14T18:42:07.311Z"
   },
   {
    "duration": 45,
    "start_time": "2024-10-14T18:42:16.308Z"
   },
   {
    "duration": 40,
    "start_time": "2024-10-14T18:42:21.460Z"
   },
   {
    "duration": 33,
    "start_time": "2024-10-14T18:42:40.474Z"
   },
   {
    "duration": 33,
    "start_time": "2024-10-14T18:42:42.752Z"
   },
   {
    "duration": 160,
    "start_time": "2024-10-15T14:26:29.712Z"
   },
   {
    "duration": 815,
    "start_time": "2024-10-15T14:26:39.985Z"
   },
   {
    "duration": 46,
    "start_time": "2024-10-15T14:26:40.803Z"
   },
   {
    "duration": 28,
    "start_time": "2024-10-15T14:26:40.851Z"
   },
   {
    "duration": 10,
    "start_time": "2024-10-15T14:26:40.882Z"
   },
   {
    "duration": 7,
    "start_time": "2024-10-15T14:26:40.894Z"
   },
   {
    "duration": 43,
    "start_time": "2024-10-15T14:26:40.903Z"
   },
   {
    "duration": 10,
    "start_time": "2024-10-15T14:26:40.948Z"
   },
   {
    "duration": 7,
    "start_time": "2024-10-15T14:26:40.961Z"
   },
   {
    "duration": 6,
    "start_time": "2024-10-15T14:26:40.970Z"
   },
   {
    "duration": 5,
    "start_time": "2024-10-15T14:26:40.980Z"
   },
   {
    "duration": 45,
    "start_time": "2024-10-15T14:26:40.987Z"
   },
   {
    "duration": 48,
    "start_time": "2024-10-15T14:26:41.034Z"
   },
   {
    "duration": 3,
    "start_time": "2024-10-15T14:26:41.084Z"
   },
   {
    "duration": 6,
    "start_time": "2024-10-15T14:26:41.089Z"
   },
   {
    "duration": 5,
    "start_time": "2024-10-15T14:26:41.097Z"
   },
   {
    "duration": 30,
    "start_time": "2024-10-15T14:26:41.104Z"
   },
   {
    "duration": 168,
    "start_time": "2024-10-15T14:26:41.136Z"
   },
   {
    "duration": 4,
    "start_time": "2024-10-15T14:30:50.682Z"
   },
   {
    "duration": 8,
    "start_time": "2024-10-15T14:31:07.936Z"
   },
   {
    "duration": 4,
    "start_time": "2024-10-15T14:37:47.222Z"
   },
   {
    "duration": 5,
    "start_time": "2024-10-15T14:41:46.266Z"
   },
   {
    "duration": 29,
    "start_time": "2024-10-15T14:43:56.405Z"
   },
   {
    "duration": 793,
    "start_time": "2024-10-15T14:44:28.583Z"
   },
   {
    "duration": 35,
    "start_time": "2024-10-15T14:44:29.379Z"
   },
   {
    "duration": 37,
    "start_time": "2024-10-15T14:44:29.416Z"
   },
   {
    "duration": 9,
    "start_time": "2024-10-15T14:44:29.457Z"
   },
   {
    "duration": 7,
    "start_time": "2024-10-15T14:44:29.470Z"
   },
   {
    "duration": 16,
    "start_time": "2024-10-15T14:44:29.478Z"
   },
   {
    "duration": 36,
    "start_time": "2024-10-15T14:44:29.496Z"
   },
   {
    "duration": 7,
    "start_time": "2024-10-15T14:44:29.534Z"
   },
   {
    "duration": 6,
    "start_time": "2024-10-15T14:44:29.543Z"
   },
   {
    "duration": 6,
    "start_time": "2024-10-15T14:44:29.550Z"
   },
   {
    "duration": 4,
    "start_time": "2024-10-15T14:44:29.558Z"
   },
   {
    "duration": 5,
    "start_time": "2024-10-15T14:44:29.564Z"
   },
   {
    "duration": 6,
    "start_time": "2024-10-15T14:44:29.571Z"
   },
   {
    "duration": 92,
    "start_time": "2024-10-15T14:44:29.581Z"
   },
   {
    "duration": 3,
    "start_time": "2024-10-15T14:44:29.674Z"
   },
   {
    "duration": 7,
    "start_time": "2024-10-15T14:44:29.679Z"
   },
   {
    "duration": 24,
    "start_time": "2024-10-15T14:44:29.687Z"
   },
   {
    "duration": 170,
    "start_time": "2024-10-15T14:44:29.713Z"
   },
   {
    "duration": 2,
    "start_time": "2024-10-15T14:48:02.002Z"
   },
   {
    "duration": 117,
    "start_time": "2024-10-15T14:52:13.907Z"
   },
   {
    "duration": 4,
    "start_time": "2024-10-15T14:52:28.691Z"
   },
   {
    "duration": 31,
    "start_time": "2024-10-15T15:04:46.759Z"
   },
   {
    "duration": 294,
    "start_time": "2024-10-15T15:05:41.263Z"
   },
   {
    "duration": 10,
    "start_time": "2024-10-15T15:06:29.152Z"
   },
   {
    "duration": 63,
    "start_time": "2024-10-15T15:07:33.341Z"
   },
   {
    "duration": 417,
    "start_time": "2024-10-15T15:08:01.697Z"
   },
   {
    "duration": 806,
    "start_time": "2024-10-15T15:09:26.985Z"
   },
   {
    "duration": 33,
    "start_time": "2024-10-15T15:09:27.793Z"
   },
   {
    "duration": 30,
    "start_time": "2024-10-15T15:09:27.832Z"
   },
   {
    "duration": 10,
    "start_time": "2024-10-15T15:09:27.864Z"
   },
   {
    "duration": 5,
    "start_time": "2024-10-15T15:09:27.878Z"
   },
   {
    "duration": 18,
    "start_time": "2024-10-15T15:09:27.885Z"
   },
   {
    "duration": 13,
    "start_time": "2024-10-15T15:09:27.932Z"
   },
   {
    "duration": 7,
    "start_time": "2024-10-15T15:09:27.947Z"
   },
   {
    "duration": 5,
    "start_time": "2024-10-15T15:09:27.956Z"
   },
   {
    "duration": 6,
    "start_time": "2024-10-15T15:09:27.963Z"
   },
   {
    "duration": 6,
    "start_time": "2024-10-15T15:09:27.972Z"
   },
   {
    "duration": 5,
    "start_time": "2024-10-15T15:09:27.980Z"
   },
   {
    "duration": 46,
    "start_time": "2024-10-15T15:09:27.987Z"
   },
   {
    "duration": 6,
    "start_time": "2024-10-15T15:09:28.038Z"
   },
   {
    "duration": 54,
    "start_time": "2024-10-15T15:09:28.046Z"
   },
   {
    "duration": 4,
    "start_time": "2024-10-15T15:09:28.104Z"
   },
   {
    "duration": 30,
    "start_time": "2024-10-15T15:09:28.110Z"
   },
   {
    "duration": 3,
    "start_time": "2024-10-15T15:09:28.143Z"
   },
   {
    "duration": 26,
    "start_time": "2024-10-15T15:09:28.148Z"
   },
   {
    "duration": 442,
    "start_time": "2024-10-15T15:09:28.176Z"
   },
   {
    "duration": 417,
    "start_time": "2024-10-15T15:09:36.791Z"
   },
   {
    "duration": 7,
    "start_time": "2024-10-15T15:09:47.305Z"
   },
   {
    "duration": 420,
    "start_time": "2024-10-15T15:09:55.182Z"
   },
   {
    "duration": 5,
    "start_time": "2024-10-15T15:12:47.748Z"
   },
   {
    "duration": 1338,
    "start_time": "2024-10-15T15:14:39.751Z"
   },
   {
    "duration": 2866,
    "start_time": "2024-10-15T15:14:55.154Z"
   },
   {
    "duration": 64,
    "start_time": "2024-10-15T15:15:06.521Z"
   },
   {
    "duration": 67,
    "start_time": "2024-10-15T15:15:48.914Z"
   },
   {
    "duration": 464,
    "start_time": "2024-10-15T15:16:01.733Z"
   },
   {
    "duration": 169,
    "start_time": "2024-10-15T15:16:50.536Z"
   },
   {
    "duration": 170,
    "start_time": "2024-10-15T15:16:55.733Z"
   },
   {
    "duration": 810,
    "start_time": "2024-10-15T16:06:46.480Z"
   },
   {
    "duration": 37,
    "start_time": "2024-10-15T16:06:47.292Z"
   },
   {
    "duration": 30,
    "start_time": "2024-10-15T16:06:47.333Z"
   },
   {
    "duration": 11,
    "start_time": "2024-10-15T16:06:47.365Z"
   },
   {
    "duration": 7,
    "start_time": "2024-10-15T16:06:47.377Z"
   },
   {
    "duration": 16,
    "start_time": "2024-10-15T16:06:47.386Z"
   },
   {
    "duration": 36,
    "start_time": "2024-10-15T16:06:47.404Z"
   },
   {
    "duration": 7,
    "start_time": "2024-10-15T16:06:47.441Z"
   },
   {
    "duration": 6,
    "start_time": "2024-10-15T16:06:47.449Z"
   },
   {
    "duration": 6,
    "start_time": "2024-10-15T16:06:47.457Z"
   },
   {
    "duration": 4,
    "start_time": "2024-10-15T16:06:47.465Z"
   },
   {
    "duration": 6,
    "start_time": "2024-10-15T16:06:47.470Z"
   },
   {
    "duration": 10,
    "start_time": "2024-10-15T16:06:47.478Z"
   },
   {
    "duration": 45,
    "start_time": "2024-10-15T16:06:47.490Z"
   },
   {
    "duration": 49,
    "start_time": "2024-10-15T16:06:47.537Z"
   },
   {
    "duration": 3,
    "start_time": "2024-10-15T16:06:47.588Z"
   },
   {
    "duration": 7,
    "start_time": "2024-10-15T16:06:47.592Z"
   },
   {
    "duration": 3,
    "start_time": "2024-10-15T16:06:47.600Z"
   },
   {
    "duration": 29,
    "start_time": "2024-10-15T16:06:47.632Z"
   },
   {
    "duration": 183,
    "start_time": "2024-10-15T16:06:47.663Z"
   },
   {
    "duration": 3,
    "start_time": "2024-10-15T16:07:01.550Z"
   },
   {
    "duration": 185,
    "start_time": "2024-10-15T16:09:31.927Z"
   },
   {
    "duration": 5,
    "start_time": "2024-10-15T16:10:43.129Z"
   },
   {
    "duration": 3,
    "start_time": "2024-10-15T16:11:51.499Z"
   },
   {
    "duration": 5,
    "start_time": "2024-10-15T16:12:11.597Z"
   },
   {
    "duration": 217,
    "start_time": "2024-10-15T16:12:29.290Z"
   },
   {
    "duration": 5,
    "start_time": "2024-10-15T16:12:31.677Z"
   },
   {
    "duration": 6,
    "start_time": "2024-10-15T16:12:36.286Z"
   },
   {
    "duration": 3,
    "start_time": "2024-10-15T16:18:47.700Z"
   },
   {
    "duration": 6,
    "start_time": "2024-10-15T16:19:30.310Z"
   },
   {
    "duration": 184,
    "start_time": "2024-10-15T16:31:02.877Z"
   },
   {
    "duration": 5,
    "start_time": "2024-10-15T16:31:32.628Z"
   },
   {
    "duration": 2854,
    "start_time": "2024-10-15T16:31:41.037Z"
   },
   {
    "duration": 6,
    "start_time": "2024-10-15T16:31:46.586Z"
   },
   {
    "duration": 7,
    "start_time": "2024-10-15T16:31:49.761Z"
   },
   {
    "duration": 1696,
    "start_time": "2024-10-15T16:32:20.481Z"
   },
   {
    "duration": 2797,
    "start_time": "2024-10-15T16:32:29.889Z"
   },
   {
    "duration": 8,
    "start_time": "2024-10-15T16:33:46.877Z"
   },
   {
    "duration": 8,
    "start_time": "2024-10-15T16:44:26.376Z"
   },
   {
    "duration": 3,
    "start_time": "2024-10-15T16:55:42.876Z"
   },
   {
    "duration": 21,
    "start_time": "2024-10-15T17:10:51.793Z"
   },
   {
    "duration": 9,
    "start_time": "2024-10-15T17:10:58.598Z"
   },
   {
    "duration": 16,
    "start_time": "2024-10-15T17:11:16.174Z"
   },
   {
    "duration": 20,
    "start_time": "2024-10-15T17:11:28.261Z"
   },
   {
    "duration": 14,
    "start_time": "2024-10-15T17:11:30.418Z"
   },
   {
    "duration": 15,
    "start_time": "2024-10-15T17:11:33.084Z"
   },
   {
    "duration": 96,
    "start_time": "2024-10-15T17:14:24.653Z"
   },
   {
    "duration": 6,
    "start_time": "2024-10-15T17:14:55.036Z"
   },
   {
    "duration": 12,
    "start_time": "2024-10-15T17:14:59.395Z"
   },
   {
    "duration": 10,
    "start_time": "2024-10-15T17:15:12.083Z"
   },
   {
    "duration": 13,
    "start_time": "2024-10-15T17:15:17.409Z"
   },
   {
    "duration": 13,
    "start_time": "2024-10-15T17:55:36.540Z"
   },
   {
    "duration": 13,
    "start_time": "2024-10-15T17:55:54.180Z"
   },
   {
    "duration": 12,
    "start_time": "2024-10-15T17:56:08.047Z"
   },
   {
    "duration": 15,
    "start_time": "2024-10-15T17:56:19.439Z"
   },
   {
    "duration": 815,
    "start_time": "2024-10-15T17:57:09.058Z"
   },
   {
    "duration": 35,
    "start_time": "2024-10-15T17:57:09.876Z"
   },
   {
    "duration": 40,
    "start_time": "2024-10-15T17:57:09.913Z"
   },
   {
    "duration": 9,
    "start_time": "2024-10-15T17:57:09.955Z"
   },
   {
    "duration": 7,
    "start_time": "2024-10-15T17:57:09.967Z"
   },
   {
    "duration": 17,
    "start_time": "2024-10-15T17:57:09.976Z"
   },
   {
    "duration": 39,
    "start_time": "2024-10-15T17:57:09.996Z"
   },
   {
    "duration": 7,
    "start_time": "2024-10-15T17:57:10.036Z"
   },
   {
    "duration": 6,
    "start_time": "2024-10-15T17:57:10.044Z"
   },
   {
    "duration": 4,
    "start_time": "2024-10-15T17:57:10.052Z"
   },
   {
    "duration": 5,
    "start_time": "2024-10-15T17:57:10.058Z"
   },
   {
    "duration": 6,
    "start_time": "2024-10-15T17:57:10.064Z"
   },
   {
    "duration": 11,
    "start_time": "2024-10-15T17:57:10.072Z"
   },
   {
    "duration": 5,
    "start_time": "2024-10-15T17:57:10.086Z"
   },
   {
    "duration": 51,
    "start_time": "2024-10-15T17:57:10.132Z"
   },
   {
    "duration": 3,
    "start_time": "2024-10-15T17:57:10.185Z"
   },
   {
    "duration": 6,
    "start_time": "2024-10-15T17:57:10.190Z"
   },
   {
    "duration": 3,
    "start_time": "2024-10-15T17:57:10.198Z"
   },
   {
    "duration": 49,
    "start_time": "2024-10-15T17:57:10.202Z"
   },
   {
    "duration": 196,
    "start_time": "2024-10-15T17:57:10.253Z"
   },
   {
    "duration": 5,
    "start_time": "2024-10-15T17:57:10.451Z"
   },
   {
    "duration": 6,
    "start_time": "2024-10-15T17:57:10.458Z"
   },
   {
    "duration": 6,
    "start_time": "2024-10-15T17:57:10.465Z"
   },
   {
    "duration": 2913,
    "start_time": "2024-10-15T17:57:10.473Z"
   },
   {
    "duration": 7,
    "start_time": "2024-10-15T17:57:13.388Z"
   },
   {
    "duration": 15,
    "start_time": "2024-10-15T17:57:13.396Z"
   },
   {
    "duration": 7,
    "start_time": "2024-10-15T18:00:06.029Z"
   },
   {
    "duration": 8,
    "start_time": "2024-10-15T18:00:13.418Z"
   },
   {
    "duration": 8,
    "start_time": "2024-10-15T18:00:16.963Z"
   },
   {
    "duration": 8,
    "start_time": "2024-10-15T18:00:19.393Z"
   },
   {
    "duration": 7,
    "start_time": "2024-10-15T18:00:24.521Z"
   },
   {
    "duration": 8,
    "start_time": "2024-10-15T18:00:31.828Z"
   },
   {
    "duration": 7,
    "start_time": "2024-10-15T18:00:36.730Z"
   },
   {
    "duration": 2,
    "start_time": "2024-10-15T18:03:26.263Z"
   },
   {
    "duration": 522,
    "start_time": "2024-10-15T18:03:50.075Z"
   },
   {
    "duration": 35,
    "start_time": "2024-10-15T18:04:41.269Z"
   },
   {
    "duration": 3,
    "start_time": "2024-10-15T18:04:59.824Z"
   },
   {
    "duration": 9,
    "start_time": "2024-10-15T18:05:08.269Z"
   },
   {
    "duration": 9,
    "start_time": "2024-10-15T18:08:36.701Z"
   },
   {
    "duration": 40,
    "start_time": "2024-10-15T18:10:50.356Z"
   },
   {
    "duration": 25,
    "start_time": "2024-10-15T18:11:08.265Z"
   },
   {
    "duration": 29,
    "start_time": "2024-10-15T18:11:33.607Z"
   },
   {
    "duration": 38,
    "start_time": "2024-10-15T18:11:54.737Z"
   },
   {
    "duration": 31,
    "start_time": "2024-10-15T18:12:08.311Z"
   },
   {
    "duration": 24,
    "start_time": "2024-10-15T18:12:23.521Z"
   },
   {
    "duration": 4814,
    "start_time": "2024-10-15T18:13:23.646Z"
   },
   {
    "duration": 8,
    "start_time": "2024-10-15T18:20:08.512Z"
   },
   {
    "duration": 1165,
    "start_time": "2024-10-15T18:22:19.489Z"
   },
   {
    "duration": 9,
    "start_time": "2024-10-15T18:22:33.057Z"
   },
   {
    "duration": 1418,
    "start_time": "2024-10-15T18:22:35.100Z"
   },
   {
    "duration": 10,
    "start_time": "2024-10-15T18:22:43.212Z"
   },
   {
    "duration": 1590,
    "start_time": "2024-10-15T18:22:45.390Z"
   },
   {
    "duration": 11,
    "start_time": "2024-10-15T18:22:53.354Z"
   },
   {
    "duration": 1465,
    "start_time": "2024-10-15T18:22:55.456Z"
   },
   {
    "duration": 10,
    "start_time": "2024-10-15T18:23:24.519Z"
   },
   {
    "duration": 1462,
    "start_time": "2024-10-15T18:23:26.315Z"
   },
   {
    "duration": 9,
    "start_time": "2024-10-15T18:23:37.490Z"
   },
   {
    "duration": 2317,
    "start_time": "2024-10-15T18:23:40.032Z"
   },
   {
    "duration": 10,
    "start_time": "2024-10-15T18:23:51.549Z"
   },
   {
    "duration": 2008,
    "start_time": "2024-10-15T18:23:53.619Z"
   },
   {
    "duration": 9,
    "start_time": "2024-10-15T18:24:02.058Z"
   },
   {
    "duration": 1846,
    "start_time": "2024-10-15T18:24:03.725Z"
   },
   {
    "duration": 1768,
    "start_time": "2024-10-15T18:24:16.870Z"
   },
   {
    "duration": 1842,
    "start_time": "2024-10-15T18:24:48.725Z"
   },
   {
    "duration": 9,
    "start_time": "2024-10-15T18:24:59.981Z"
   },
   {
    "duration": 1589,
    "start_time": "2024-10-15T18:25:02.038Z"
   },
   {
    "duration": 10,
    "start_time": "2024-10-15T18:25:13.233Z"
   },
   {
    "duration": 8,
    "start_time": "2024-10-15T18:25:15.496Z"
   },
   {
    "duration": 1534,
    "start_time": "2024-10-15T18:25:23.685Z"
   },
   {
    "duration": 17,
    "start_time": "2024-10-15T18:25:27.833Z"
   },
   {
    "duration": 1544,
    "start_time": "2024-10-15T18:25:29.717Z"
   },
   {
    "duration": 1450,
    "start_time": "2024-10-15T18:25:44.838Z"
   },
   {
    "duration": 1438,
    "start_time": "2024-10-15T18:25:48.395Z"
   },
   {
    "duration": 1423,
    "start_time": "2024-10-15T18:25:51.804Z"
   },
   {
    "duration": 10,
    "start_time": "2024-10-15T18:27:51.748Z"
   },
   {
    "duration": 1347,
    "start_time": "2024-10-15T18:27:54.394Z"
   },
   {
    "duration": 9,
    "start_time": "2024-10-15T18:27:59.422Z"
   },
   {
    "duration": 1555,
    "start_time": "2024-10-15T18:28:01.397Z"
   },
   {
    "duration": 10,
    "start_time": "2024-10-15T18:28:08.906Z"
   },
   {
    "duration": 1730,
    "start_time": "2024-10-15T18:28:11.406Z"
   },
   {
    "duration": 2,
    "start_time": "2024-10-15T18:50:12.521Z"
   },
   {
    "duration": 1838,
    "start_time": "2024-10-15T18:50:17.805Z"
   },
   {
    "duration": 12,
    "start_time": "2024-10-15T18:50:53.042Z"
   },
   {
    "duration": 775,
    "start_time": "2024-10-16T16:11:19.043Z"
   },
   {
    "duration": 42,
    "start_time": "2024-10-16T16:11:19.820Z"
   },
   {
    "duration": 27,
    "start_time": "2024-10-16T16:11:19.864Z"
   },
   {
    "duration": 13,
    "start_time": "2024-10-16T16:11:19.892Z"
   },
   {
    "duration": 7,
    "start_time": "2024-10-16T16:11:19.907Z"
   },
   {
    "duration": 16,
    "start_time": "2024-10-16T16:11:19.916Z"
   },
   {
    "duration": 10,
    "start_time": "2024-10-16T16:11:19.934Z"
   },
   {
    "duration": 7,
    "start_time": "2024-10-16T16:11:19.945Z"
   },
   {
    "duration": 5,
    "start_time": "2024-10-16T16:11:19.954Z"
   },
   {
    "duration": 43,
    "start_time": "2024-10-16T16:11:19.962Z"
   },
   {
    "duration": 4,
    "start_time": "2024-10-16T16:11:20.007Z"
   },
   {
    "duration": 5,
    "start_time": "2024-10-16T16:11:20.013Z"
   },
   {
    "duration": 9,
    "start_time": "2024-10-16T16:11:20.021Z"
   },
   {
    "duration": 4,
    "start_time": "2024-10-16T16:11:20.033Z"
   },
   {
    "duration": 66,
    "start_time": "2024-10-16T16:11:20.039Z"
   },
   {
    "duration": 3,
    "start_time": "2024-10-16T16:11:20.106Z"
   },
   {
    "duration": 5,
    "start_time": "2024-10-16T16:11:20.111Z"
   },
   {
    "duration": 3,
    "start_time": "2024-10-16T16:11:20.118Z"
   },
   {
    "duration": 23,
    "start_time": "2024-10-16T16:11:20.122Z"
   },
   {
    "duration": 197,
    "start_time": "2024-10-16T16:11:20.147Z"
   },
   {
    "duration": 5,
    "start_time": "2024-10-16T16:11:20.346Z"
   },
   {
    "duration": 5,
    "start_time": "2024-10-16T16:11:20.352Z"
   },
   {
    "duration": 5,
    "start_time": "2024-10-16T16:11:20.358Z"
   },
   {
    "duration": 2793,
    "start_time": "2024-10-16T16:11:20.364Z"
   },
   {
    "duration": 6,
    "start_time": "2024-10-16T16:11:23.159Z"
   },
   {
    "duration": 2,
    "start_time": "2024-10-16T16:11:23.167Z"
   },
   {
    "duration": 10,
    "start_time": "2024-10-16T16:11:23.171Z"
   },
   {
    "duration": 4613,
    "start_time": "2024-10-16T16:11:23.184Z"
   },
   {
    "duration": 11,
    "start_time": "2024-10-16T16:11:27.799Z"
   },
   {
    "duration": 1674,
    "start_time": "2024-10-16T16:11:27.812Z"
   },
   {
    "duration": 215,
    "start_time": "2024-10-16T16:18:51.758Z"
   },
   {
    "duration": 35781,
    "start_time": "2024-10-16T16:19:10.594Z"
   },
   {
    "duration": 36823,
    "start_time": "2024-10-16T16:23:30.701Z"
   },
   {
    "duration": 6,
    "start_time": "2024-10-16T16:25:29.278Z"
   },
   {
    "duration": 36036,
    "start_time": "2024-10-16T16:31:56.530Z"
   },
   {
    "duration": 8,
    "start_time": "2024-10-16T16:33:00.628Z"
   },
   {
    "duration": 68168,
    "start_time": "2024-10-16T16:37:26.728Z"
   },
   {
    "duration": 7,
    "start_time": "2024-10-16T16:38:56.046Z"
   },
   {
    "duration": 23081,
    "start_time": "2024-10-16T16:41:42.331Z"
   },
   {
    "duration": 10,
    "start_time": "2024-10-16T16:42:29.928Z"
   },
   {
    "duration": 23051,
    "start_time": "2024-10-16T16:45:17.819Z"
   },
   {
    "duration": 8,
    "start_time": "2024-10-16T16:45:44.744Z"
   },
   {
    "duration": 23121,
    "start_time": "2024-10-16T16:45:56.305Z"
   },
   {
    "duration": 18287,
    "start_time": "2024-10-16T16:46:24.803Z"
   },
   {
    "duration": 7,
    "start_time": "2024-10-16T16:46:50.005Z"
   },
   {
    "duration": 18253,
    "start_time": "2024-10-16T16:46:59.117Z"
   },
   {
    "duration": 9,
    "start_time": "2024-10-16T16:47:20.735Z"
   },
   {
    "duration": 25284,
    "start_time": "2024-10-16T16:47:25.668Z"
   },
   {
    "duration": 7,
    "start_time": "2024-10-16T16:48:01.489Z"
   },
   {
    "duration": 27464,
    "start_time": "2024-10-16T16:48:09.877Z"
   },
   {
    "duration": 8,
    "start_time": "2024-10-16T16:48:42.443Z"
   },
   {
    "duration": 93474,
    "start_time": "2024-10-16T16:49:02.213Z"
   },
   {
    "duration": 7,
    "start_time": "2024-10-16T16:50:40.022Z"
   },
   {
    "duration": 812,
    "start_time": "2024-10-16T16:51:02.525Z"
   },
   {
    "duration": 32,
    "start_time": "2024-10-16T16:51:03.339Z"
   },
   {
    "duration": 35,
    "start_time": "2024-10-16T16:51:03.373Z"
   },
   {
    "duration": 10,
    "start_time": "2024-10-16T16:51:03.410Z"
   },
   {
    "duration": 7,
    "start_time": "2024-10-16T16:51:03.421Z"
   },
   {
    "duration": 15,
    "start_time": "2024-10-16T16:51:03.431Z"
   },
   {
    "duration": 9,
    "start_time": "2024-10-16T16:51:03.447Z"
   },
   {
    "duration": 5,
    "start_time": "2024-10-16T16:51:03.458Z"
   },
   {
    "duration": 40,
    "start_time": "2024-10-16T16:51:03.465Z"
   },
   {
    "duration": 4,
    "start_time": "2024-10-16T16:51:03.508Z"
   },
   {
    "duration": 5,
    "start_time": "2024-10-16T16:51:03.514Z"
   },
   {
    "duration": 5,
    "start_time": "2024-10-16T16:51:03.520Z"
   },
   {
    "duration": 9,
    "start_time": "2024-10-16T16:51:03.526Z"
   },
   {
    "duration": 5,
    "start_time": "2024-10-16T16:51:03.536Z"
   },
   {
    "duration": 74,
    "start_time": "2024-10-16T16:51:03.543Z"
   },
   {
    "duration": 3,
    "start_time": "2024-10-16T16:51:03.619Z"
   },
   {
    "duration": 6,
    "start_time": "2024-10-16T16:51:03.624Z"
   },
   {
    "duration": 4,
    "start_time": "2024-10-16T16:51:03.631Z"
   },
   {
    "duration": 22,
    "start_time": "2024-10-16T16:51:03.636Z"
   },
   {
    "duration": 209,
    "start_time": "2024-10-16T16:51:03.659Z"
   },
   {
    "duration": 5,
    "start_time": "2024-10-16T16:51:03.870Z"
   },
   {
    "duration": 5,
    "start_time": "2024-10-16T16:51:03.877Z"
   },
   {
    "duration": 22,
    "start_time": "2024-10-16T16:51:03.884Z"
   },
   {
    "duration": 2798,
    "start_time": "2024-10-16T16:51:03.907Z"
   },
   {
    "duration": 8,
    "start_time": "2024-10-16T16:51:06.707Z"
   },
   {
    "duration": 9,
    "start_time": "2024-10-16T16:51:06.717Z"
   },
   {
    "duration": 4644,
    "start_time": "2024-10-16T16:51:06.727Z"
   },
   {
    "duration": 8,
    "start_time": "2024-10-16T16:51:11.374Z"
   },
   {
    "duration": 1731,
    "start_time": "2024-10-16T16:51:11.384Z"
   },
   {
    "duration": 36639,
    "start_time": "2024-10-16T16:51:13.117Z"
   },
   {
    "duration": 7,
    "start_time": "2024-10-16T16:51:49.758Z"
   },
   {
    "duration": 35699,
    "start_time": "2024-10-16T16:51:49.766Z"
   },
   {
    "duration": 8,
    "start_time": "2024-10-16T16:52:25.467Z"
   },
   {
    "duration": 93778,
    "start_time": "2024-10-16T16:52:25.476Z"
   },
   {
    "duration": 8,
    "start_time": "2024-10-16T16:53:59.255Z"
   },
   {
    "duration": 27435,
    "start_time": "2024-10-16T16:53:59.265Z"
   },
   {
    "duration": 7,
    "start_time": "2024-10-16T16:54:26.706Z"
   },
   {
    "duration": 29735,
    "start_time": "2024-10-16T16:54:44.286Z"
   },
   {
    "duration": 7,
    "start_time": "2024-10-16T16:55:17.844Z"
   },
   {
    "duration": 26174,
    "start_time": "2024-10-16T16:55:29.890Z"
   },
   {
    "duration": 6,
    "start_time": "2024-10-16T16:55:59.952Z"
   },
   {
    "duration": 28786,
    "start_time": "2024-10-16T16:56:11.049Z"
   },
   {
    "duration": 7,
    "start_time": "2024-10-16T16:56:43.590Z"
   },
   {
    "duration": 28014,
    "start_time": "2024-10-16T16:56:50.894Z"
   },
   {
    "duration": 9,
    "start_time": "2024-10-16T16:57:23.007Z"
   },
   {
    "duration": 27956,
    "start_time": "2024-10-16T16:57:28.514Z"
   },
   {
    "duration": 6,
    "start_time": "2024-10-16T16:58:00.278Z"
   },
   {
    "duration": 27705,
    "start_time": "2024-10-16T16:58:04.558Z"
   },
   {
    "duration": 7,
    "start_time": "2024-10-16T16:58:46.898Z"
   },
   {
    "duration": 27467,
    "start_time": "2024-10-16T16:58:54.520Z"
   },
   {
    "duration": 6,
    "start_time": "2024-10-16T16:59:25.886Z"
   },
   {
    "duration": 26768,
    "start_time": "2024-10-16T16:59:36.518Z"
   },
   {
    "duration": 7,
    "start_time": "2024-10-16T17:00:06.929Z"
   },
   {
    "duration": 27213,
    "start_time": "2024-10-16T17:00:11.865Z"
   },
   {
    "duration": 7,
    "start_time": "2024-10-16T17:00:42.153Z"
   },
   {
    "duration": 262273,
    "start_time": "2024-10-16T17:01:59.021Z"
   },
   {
    "duration": 12,
    "start_time": "2024-10-16T17:06:26.824Z"
   },
   {
    "duration": 8,
    "start_time": "2024-10-16T17:06:30.451Z"
   },
   {
    "duration": 52130,
    "start_time": "2024-10-16T17:06:42.054Z"
   },
   {
    "duration": 8,
    "start_time": "2024-10-16T17:07:38.662Z"
   },
   {
    "duration": 20,
    "start_time": "2024-10-16T17:09:21.525Z"
   },
   {
    "duration": 36,
    "start_time": "2024-10-16T17:10:21.708Z"
   },
   {
    "duration": 8,
    "start_time": "2024-10-16T17:10:31.360Z"
   },
   {
    "duration": 7,
    "start_time": "2024-10-16T17:10:36.466Z"
   },
   {
    "duration": 18,
    "start_time": "2024-10-16T17:10:38.855Z"
   },
   {
    "duration": 16,
    "start_time": "2024-10-16T17:11:44.797Z"
   },
   {
    "duration": 7,
    "start_time": "2024-10-16T17:11:51.977Z"
   },
   {
    "duration": 21,
    "start_time": "2024-10-16T17:13:43.677Z"
   },
   {
    "duration": 7,
    "start_time": "2024-10-16T17:13:52.087Z"
   },
   {
    "duration": 24,
    "start_time": "2024-10-16T17:13:55.937Z"
   },
   {
    "duration": 8,
    "start_time": "2024-10-16T17:13:59.253Z"
   },
   {
    "duration": 93,
    "start_time": "2024-10-16T17:14:03.263Z"
   },
   {
    "duration": 8,
    "start_time": "2024-10-16T17:14:05.528Z"
   },
   {
    "duration": 118,
    "start_time": "2024-10-16T17:14:27.392Z"
   },
   {
    "duration": 8,
    "start_time": "2024-10-16T17:14:29.914Z"
   },
   {
    "duration": 24,
    "start_time": "2024-10-16T17:14:33.456Z"
   },
   {
    "duration": 7,
    "start_time": "2024-10-16T17:14:35.666Z"
   },
   {
    "duration": 19,
    "start_time": "2024-10-16T17:14:39.062Z"
   },
   {
    "duration": 8,
    "start_time": "2024-10-16T17:14:40.984Z"
   },
   {
    "duration": 24,
    "start_time": "2024-10-16T17:14:46.129Z"
   },
   {
    "duration": 7,
    "start_time": "2024-10-16T17:14:48.485Z"
   },
   {
    "duration": 18,
    "start_time": "2024-10-16T17:15:51.275Z"
   },
   {
    "duration": 9,
    "start_time": "2024-10-16T17:16:00.462Z"
   },
   {
    "duration": 21,
    "start_time": "2024-10-16T17:16:04.885Z"
   },
   {
    "duration": 7,
    "start_time": "2024-10-16T17:16:06.694Z"
   },
   {
    "duration": 19,
    "start_time": "2024-10-16T17:16:10.115Z"
   },
   {
    "duration": 8,
    "start_time": "2024-10-16T17:16:12.569Z"
   },
   {
    "duration": 18,
    "start_time": "2024-10-16T17:16:17.306Z"
   },
   {
    "duration": 7,
    "start_time": "2024-10-16T17:16:19.300Z"
   },
   {
    "duration": 20,
    "start_time": "2024-10-16T17:16:24.099Z"
   },
   {
    "duration": 8,
    "start_time": "2024-10-16T17:16:25.823Z"
   },
   {
    "duration": 10,
    "start_time": "2024-10-16T17:17:27.866Z"
   },
   {
    "duration": 1997,
    "start_time": "2024-10-16T17:17:35.299Z"
   },
   {
    "duration": 8,
    "start_time": "2024-10-16T17:18:06.447Z"
   },
   {
    "duration": 2186,
    "start_time": "2024-10-16T17:18:09.389Z"
   },
   {
    "duration": 8,
    "start_time": "2024-10-16T17:18:15.867Z"
   },
   {
    "duration": 2000,
    "start_time": "2024-10-16T17:18:18.422Z"
   },
   {
    "duration": 12,
    "start_time": "2024-10-16T17:18:27.357Z"
   },
   {
    "duration": 9853,
    "start_time": "2024-10-16T17:18:29.453Z"
   },
   {
    "duration": 12,
    "start_time": "2024-10-16T17:18:43.551Z"
   },
   {
    "duration": 11361,
    "start_time": "2024-10-16T17:18:45.555Z"
   },
   {
    "duration": 12,
    "start_time": "2024-10-16T17:19:01.659Z"
   },
   {
    "duration": 9763,
    "start_time": "2024-10-16T17:19:03.459Z"
   },
   {
    "duration": 27281,
    "start_time": "2024-10-16T18:32:38.670Z"
   },
   {
    "duration": 6,
    "start_time": "2024-10-16T18:33:08.280Z"
   },
   {
    "duration": 287,
    "start_time": "2024-10-16T18:35:44.017Z"
   },
   {
    "duration": 28763,
    "start_time": "2024-10-16T18:36:23.545Z"
   },
   {
    "duration": 8,
    "start_time": "2024-10-16T18:36:55.984Z"
   },
   {
    "duration": 13,
    "start_time": "2024-10-16T18:37:11.365Z"
   },
   {
    "duration": 5,
    "start_time": "2024-10-16T18:37:53.183Z"
   },
   {
    "duration": 3,
    "start_time": "2024-10-16T18:43:45.805Z"
   },
   {
    "duration": 30286,
    "start_time": "2024-10-16T18:45:28.573Z"
   },
   {
    "duration": 7,
    "start_time": "2024-10-16T18:46:02.279Z"
   },
   {
    "duration": 4,
    "start_time": "2024-10-16T18:46:06.455Z"
   },
   {
    "duration": 5,
    "start_time": "2024-10-16T18:46:10.010Z"
   },
   {
    "duration": 5,
    "start_time": "2024-10-16T18:46:25.946Z"
   },
   {
    "duration": 68499,
    "start_time": "2024-10-16T18:59:20.313Z"
   },
   {
    "duration": 7,
    "start_time": "2024-10-16T19:00:32.681Z"
   }
  ],
  "kernelspec": {
   "display_name": "Python 3 (ipykernel)",
   "language": "python",
   "name": "python3"
  },
  "language_info": {
   "codemirror_mode": {
    "name": "ipython",
    "version": 3
   },
   "file_extension": ".py",
   "mimetype": "text/x-python",
   "name": "python",
   "nbconvert_exporter": "python",
   "pygments_lexer": "ipython3",
   "version": "3.9.19"
  },
  "toc": {
   "base_numbering": 1,
   "nav_menu": {},
   "number_sections": true,
   "sideBar": true,
   "skip_h1_title": true,
   "title_cell": "Table of Contents",
   "title_sidebar": "Contents",
   "toc_cell": false,
   "toc_position": {
    "height": "calc(100% - 180px)",
    "left": "10px",
    "top": "150px",
    "width": "284.797px"
   },
   "toc_section_display": true,
   "toc_window_display": false
  }
 },
 "nbformat": 4,
 "nbformat_minor": 2
}
